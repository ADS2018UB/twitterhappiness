{
 "cells": [
  {
   "cell_type": "markdown",
   "metadata": {},
   "source": [
    "# Load datasets to mLab\n",
    "\n",
    "* https://www.kaggle.com/c/twitter-sentiment-analysis2/discussion\n",
    "* https://www.kaggle.com/kazanova/sentiment140"
   ]
  },
  {
   "cell_type": "code",
   "execution_count": 1,
   "metadata": {},
   "outputs": [],
   "source": [
    "import pymongo\n",
    "import pandas as pd\n",
    "import numpy as np\n",
    "import random"
   ]
  },
  {
   "cell_type": "code",
   "execution_count": 2,
   "metadata": {},
   "outputs": [],
   "source": [
    "def db_connection(collection_name): \n",
    "    # connect to mLab DB\n",
    "    try:\n",
    "        with open(\"../credentials/mlab_credentials.txt\", 'r', encoding='utf-8') as f:\n",
    "            [name,password,url,dbname]=f.read().splitlines()\n",
    "            db_conn = pymongo.MongoClient(\"mongodb://{}:{}@{}/{}\".format(name,password,url,dbname))\n",
    "            print (\"DB connected successfully!!!\")\n",
    "    except pymongo.errors.ConnectionFailure as e:\n",
    "        print (\"Could not connect to DB: %s\" % e) \n",
    "        \n",
    "    db = db_conn[dbname]\n",
    "    collection = db[collection_name]\n",
    "    \n",
    "    return collection\n",
    "\n",
    "\n",
    "def kaggle_id(id):\n",
    "    return \"kaggle_train_\" + str(id)\n",
    "\n",
    "\n",
    "def sentiment140_id(id):\n",
    "    return \"sentiment140_\" + str(id)\n",
    "\n",
    "\n",
    "def random_sentiment(sentiment):\n",
    "    sentiments_list = [-1,0,1]\n",
    "    return random.choice(sentiments_list)\n",
    "\n",
    "\n",
    "def random_location(dummy):\n",
    "    location = random.choice(locations_list)\n",
    "    #location = locations_list[0]\n",
    "    lat = random_location_lat(location)\n",
    "    lon = random_location_lon(location)\n",
    "    return [lat,lon]\n",
    "\n",
    "def random_location_lat(location):\n",
    "    #location = random.choice(locations_list)\n",
    "    #location = locations_list[0]\n",
    "    lat = location[\"lat_min\"] + random.random()*(location[\"lat_max\"] - location[\"lat_min\"])\n",
    "    return lat\n",
    "\n",
    "def random_location_lon(location):\n",
    "    #location = random.choice(locations_list)\n",
    "    #location = locations_list[0]\n",
    "    lon = location[\"lon_min\"] + random.random()*(location[\"lon_max\"] - location[\"lon_min\"])\n",
    "    return lon"
   ]
  },
  {
   "cell_type": "code",
   "execution_count": 3,
   "metadata": {},
   "outputs": [
    {
     "name": "stdout",
     "output_type": "stream",
     "text": [
      "DB connected successfully!!!\n"
     ]
    }
   ],
   "source": [
    "db_collection_locations = db_connection(\"twitter_happiness_locations\")\n",
    "locations_list = [location for location in db_collection_locations.find()]"
   ]
  },
  {
   "cell_type": "code",
   "execution_count": 4,
   "metadata": {},
   "outputs": [],
   "source": [
    "#locations_list"
   ]
  },
  {
   "cell_type": "code",
   "execution_count": 5,
   "metadata": {},
   "outputs": [
    {
     "name": "stdout",
     "output_type": "stream",
     "text": [
      "DB connected successfully!!!\n"
     ]
    }
   ],
   "source": [
    "db_collection = db_connection(\"twitter_happiness_test\")"
   ]
  },
  {
   "cell_type": "code",
   "execution_count": 8,
   "metadata": {},
   "outputs": [
    {
     "name": "stdout",
     "output_type": "stream",
     "text": [
      "0  documents deleted\n"
     ]
    }
   ],
   "source": [
    "result = db_collection.delete_many({})\n",
    "print(result.deleted_count, \" documents deleted\")"
   ]
  },
  {
   "cell_type": "code",
   "execution_count": 9,
   "metadata": {},
   "outputs": [
    {
     "name": "stdout",
     "output_type": "stream",
     "text": [
      "(99989, 7)\n"
     ]
    },
    {
     "data": {
      "text/html": [
       "<div>\n",
       "<style scoped>\n",
       "    .dataframe tbody tr th:only-of-type {\n",
       "        vertical-align: middle;\n",
       "    }\n",
       "\n",
       "    .dataframe tbody tr th {\n",
       "        vertical-align: top;\n",
       "    }\n",
       "\n",
       "    .dataframe thead th {\n",
       "        text-align: right;\n",
       "    }\n",
       "</style>\n",
       "<table border=\"1\" class=\"dataframe\">\n",
       "  <thead>\n",
       "    <tr style=\"text-align: right;\">\n",
       "      <th></th>\n",
       "      <th>id_src</th>\n",
       "      <th>sentiment</th>\n",
       "      <th>text</th>\n",
       "      <th>id</th>\n",
       "      <th>loc</th>\n",
       "      <th>lat</th>\n",
       "      <th>lon</th>\n",
       "    </tr>\n",
       "  </thead>\n",
       "  <tbody>\n",
       "    <tr>\n",
       "      <th>0</th>\n",
       "      <td>1</td>\n",
       "      <td>-1</td>\n",
       "      <td>is so sad for my APL frie...</td>\n",
       "      <td>kaggle_train_1</td>\n",
       "      <td>[29.63702342857413, -95.35537782160773]</td>\n",
       "      <td>29.637023</td>\n",
       "      <td>-95.355378</td>\n",
       "    </tr>\n",
       "    <tr>\n",
       "      <th>1</th>\n",
       "      <td>2</td>\n",
       "      <td>1</td>\n",
       "      <td>I missed the New Moon trail...</td>\n",
       "      <td>kaggle_train_2</td>\n",
       "      <td>[41.483389054936005, 2.2228405047869244]</td>\n",
       "      <td>41.483389</td>\n",
       "      <td>2.222841</td>\n",
       "    </tr>\n",
       "    <tr>\n",
       "      <th>2</th>\n",
       "      <td>3</td>\n",
       "      <td>0</td>\n",
       "      <td>omg its already 7:30 :O</td>\n",
       "      <td>kaggle_train_3</td>\n",
       "      <td>[40.84332881706086, -73.49881006560452]</td>\n",
       "      <td>40.843329</td>\n",
       "      <td>-73.498810</td>\n",
       "    </tr>\n",
       "    <tr>\n",
       "      <th>3</th>\n",
       "      <td>4</td>\n",
       "      <td>1</td>\n",
       "      <td>.. Omgaga. Im sooo  im gunna CRy. I'...</td>\n",
       "      <td>kaggle_train_4</td>\n",
       "      <td>[45.604520247677726, -73.77354443218005]</td>\n",
       "      <td>45.604520</td>\n",
       "      <td>-73.773544</td>\n",
       "    </tr>\n",
       "    <tr>\n",
       "      <th>4</th>\n",
       "      <td>5</td>\n",
       "      <td>1</td>\n",
       "      <td>i think mi bf is cheating on me!!!   ...</td>\n",
       "      <td>kaggle_train_5</td>\n",
       "      <td>[45.5341333112686, -75.9626843512826]</td>\n",
       "      <td>45.534133</td>\n",
       "      <td>-75.962684</td>\n",
       "    </tr>\n",
       "  </tbody>\n",
       "</table>\n",
       "</div>"
      ],
      "text/plain": [
       "   id_src  sentiment                                               text  \\\n",
       "0       1         -1                       is so sad for my APL frie...   \n",
       "1       2          1                     I missed the New Moon trail...   \n",
       "2       3          0                            omg its already 7:30 :O   \n",
       "3       4          1            .. Omgaga. Im sooo  im gunna CRy. I'...   \n",
       "4       5          1           i think mi bf is cheating on me!!!   ...   \n",
       "\n",
       "               id                                       loc        lat  \\\n",
       "0  kaggle_train_1   [29.63702342857413, -95.35537782160773]  29.637023   \n",
       "1  kaggle_train_2  [41.483389054936005, 2.2228405047869244]  41.483389   \n",
       "2  kaggle_train_3   [40.84332881706086, -73.49881006560452]  40.843329   \n",
       "3  kaggle_train_4  [45.604520247677726, -73.77354443218005]  45.604520   \n",
       "4  kaggle_train_5     [45.5341333112686, -75.9626843512826]  45.534133   \n",
       "\n",
       "         lon  \n",
       "0 -95.355378  \n",
       "1   2.222841  \n",
       "2 -73.498810  \n",
       "3 -73.773544  \n",
       "4 -75.962684  "
      ]
     },
     "execution_count": 9,
     "metadata": {},
     "output_type": "execute_result"
    }
   ],
   "source": [
    "data_kaggle = pd.read_csv(\n",
    "    \"source/kaggle/train.csv\",\n",
    "    encoding='latin-1',\n",
    "    header=0,\n",
    "    names=[\"id_src\",\"sentiment\",\"text\"]\n",
    ")\n",
    "\n",
    "\n",
    "data_kaggle[\"id\"] = data_kaggle[\"id_src\"].apply(kaggle_id)\n",
    "data_kaggle[\"sentiment\"] = data_kaggle[\"sentiment\"].apply(random_sentiment)\n",
    "#data_kaggle[\"lat\"] = data_kaggle[\"sentiment\"].apply(random_location_lat)\n",
    "#data_kaggle[\"lon\"] = data_kaggle[\"sentiment\"].apply(random_location_lon)\n",
    "data_kaggle[\"loc\"] = data_kaggle.apply(random_location, axis=1)\n",
    "data_kaggle[\"lat\"] = data_kaggle[\"loc\"].apply(lambda loc: loc[0])\n",
    "data_kaggle[\"lon\"] = data_kaggle[\"loc\"].apply(lambda loc: loc[1])\n",
    "\n",
    "\n",
    "print(data_kaggle.shape)\n",
    "data_kaggle.head()"
   ]
  },
  {
   "cell_type": "code",
   "execution_count": 10,
   "metadata": {},
   "outputs": [
    {
     "data": {
      "text/plain": [
       "<pymongo.results.InsertManyResult at 0x1107f4088>"
      ]
     },
     "execution_count": 10,
     "metadata": {},
     "output_type": "execute_result"
    }
   ],
   "source": [
    "db_collection.insert_many(data_kaggle.to_dict('records'))"
   ]
  },
  {
   "cell_type": "code",
   "execution_count": 11,
   "metadata": {},
   "outputs": [
    {
     "name": "stdout",
     "output_type": "stream",
     "text": [
      "99989\n"
     ]
    },
    {
     "name": "stderr",
     "output_type": "stream",
     "text": [
      "/anaconda3/lib/python3.6/site-packages/ipykernel_launcher.py:1: DeprecationWarning: count is deprecated. Use estimated_document_count or count_documents instead. Please note that $where must be replaced by $expr, $near must be replaced by $geoWithin with $center, and $nearSphere must be replaced by $geoWithin with $centerSphere\n",
      "  \"\"\"Entry point for launching an IPython kernel.\n"
     ]
    }
   ],
   "source": [
    "print(db_collection.count())"
   ]
  },
  {
   "cell_type": "code",
   "execution_count": 12,
   "metadata": {},
   "outputs": [
    {
     "name": "stdout",
     "output_type": "stream",
     "text": [
      "(100000, 10)\n"
     ]
    },
    {
     "data": {
      "text/html": [
       "<div>\n",
       "<style scoped>\n",
       "    .dataframe tbody tr th:only-of-type {\n",
       "        vertical-align: middle;\n",
       "    }\n",
       "\n",
       "    .dataframe tbody tr th {\n",
       "        vertical-align: top;\n",
       "    }\n",
       "\n",
       "    .dataframe thead th {\n",
       "        text-align: right;\n",
       "    }\n",
       "</style>\n",
       "<table border=\"1\" class=\"dataframe\">\n",
       "  <thead>\n",
       "    <tr style=\"text-align: right;\">\n",
       "      <th></th>\n",
       "      <th>sentiment</th>\n",
       "      <th>id_src</th>\n",
       "      <th>date</th>\n",
       "      <th>flag</th>\n",
       "      <th>user</th>\n",
       "      <th>text</th>\n",
       "      <th>id</th>\n",
       "      <th>loc</th>\n",
       "      <th>lat</th>\n",
       "      <th>lon</th>\n",
       "    </tr>\n",
       "  </thead>\n",
       "  <tbody>\n",
       "    <tr>\n",
       "      <th>0</th>\n",
       "      <td>0</td>\n",
       "      <td>1467810369</td>\n",
       "      <td>Mon Apr 06 22:19:45 PDT 2009</td>\n",
       "      <td>NO_QUERY</td>\n",
       "      <td>_TheSpecialOne_</td>\n",
       "      <td>@switchfoot http://twitpic.com/2y1zl - Awww, t...</td>\n",
       "      <td>kaggle_train_1467810369</td>\n",
       "      <td>[41.38687246926971, 2.215406213422864]</td>\n",
       "      <td>41.386872</td>\n",
       "      <td>2.215406</td>\n",
       "    </tr>\n",
       "    <tr>\n",
       "      <th>1</th>\n",
       "      <td>1</td>\n",
       "      <td>1467810672</td>\n",
       "      <td>Mon Apr 06 22:19:49 PDT 2009</td>\n",
       "      <td>NO_QUERY</td>\n",
       "      <td>scotthamilton</td>\n",
       "      <td>is upset that he can't update his Facebook by ...</td>\n",
       "      <td>kaggle_train_1467810672</td>\n",
       "      <td>[40.88887706951048, -74.29616650174177]</td>\n",
       "      <td>40.888877</td>\n",
       "      <td>-74.296167</td>\n",
       "    </tr>\n",
       "    <tr>\n",
       "      <th>2</th>\n",
       "      <td>-1</td>\n",
       "      <td>1467810917</td>\n",
       "      <td>Mon Apr 06 22:19:53 PDT 2009</td>\n",
       "      <td>NO_QUERY</td>\n",
       "      <td>mattycus</td>\n",
       "      <td>@Kenichan I dived many times for the ball. Man...</td>\n",
       "      <td>kaggle_train_1467810917</td>\n",
       "      <td>[38.84174937085038, -77.05194510362819]</td>\n",
       "      <td>38.841749</td>\n",
       "      <td>-77.051945</td>\n",
       "    </tr>\n",
       "    <tr>\n",
       "      <th>3</th>\n",
       "      <td>-1</td>\n",
       "      <td>1467811184</td>\n",
       "      <td>Mon Apr 06 22:19:57 PDT 2009</td>\n",
       "      <td>NO_QUERY</td>\n",
       "      <td>ElleCTF</td>\n",
       "      <td>my whole body feels itchy and like its on fire</td>\n",
       "      <td>kaggle_train_1467811184</td>\n",
       "      <td>[43.64676078580431, -79.61913359444313]</td>\n",
       "      <td>43.646761</td>\n",
       "      <td>-79.619134</td>\n",
       "    </tr>\n",
       "    <tr>\n",
       "      <th>4</th>\n",
       "      <td>-1</td>\n",
       "      <td>1467811193</td>\n",
       "      <td>Mon Apr 06 22:19:57 PDT 2009</td>\n",
       "      <td>NO_QUERY</td>\n",
       "      <td>Karoli</td>\n",
       "      <td>@nationwideclass no, it's not behaving at all....</td>\n",
       "      <td>kaggle_train_1467811193</td>\n",
       "      <td>[34.245346218483846, -118.88440159932814]</td>\n",
       "      <td>34.245346</td>\n",
       "      <td>-118.884402</td>\n",
       "    </tr>\n",
       "  </tbody>\n",
       "</table>\n",
       "</div>"
      ],
      "text/plain": [
       "   sentiment      id_src                          date      flag  \\\n",
       "0          0  1467810369  Mon Apr 06 22:19:45 PDT 2009  NO_QUERY   \n",
       "1          1  1467810672  Mon Apr 06 22:19:49 PDT 2009  NO_QUERY   \n",
       "2         -1  1467810917  Mon Apr 06 22:19:53 PDT 2009  NO_QUERY   \n",
       "3         -1  1467811184  Mon Apr 06 22:19:57 PDT 2009  NO_QUERY   \n",
       "4         -1  1467811193  Mon Apr 06 22:19:57 PDT 2009  NO_QUERY   \n",
       "\n",
       "              user                                               text  \\\n",
       "0  _TheSpecialOne_  @switchfoot http://twitpic.com/2y1zl - Awww, t...   \n",
       "1    scotthamilton  is upset that he can't update his Facebook by ...   \n",
       "2         mattycus  @Kenichan I dived many times for the ball. Man...   \n",
       "3          ElleCTF    my whole body feels itchy and like its on fire    \n",
       "4           Karoli  @nationwideclass no, it's not behaving at all....   \n",
       "\n",
       "                        id                                        loc  \\\n",
       "0  kaggle_train_1467810369     [41.38687246926971, 2.215406213422864]   \n",
       "1  kaggle_train_1467810672    [40.88887706951048, -74.29616650174177]   \n",
       "2  kaggle_train_1467810917    [38.84174937085038, -77.05194510362819]   \n",
       "3  kaggle_train_1467811184    [43.64676078580431, -79.61913359444313]   \n",
       "4  kaggle_train_1467811193  [34.245346218483846, -118.88440159932814]   \n",
       "\n",
       "         lat         lon  \n",
       "0  41.386872    2.215406  \n",
       "1  40.888877  -74.296167  \n",
       "2  38.841749  -77.051945  \n",
       "3  43.646761  -79.619134  \n",
       "4  34.245346 -118.884402  "
      ]
     },
     "execution_count": 12,
     "metadata": {},
     "output_type": "execute_result"
    }
   ],
   "source": [
    "data_sentiment140 = pd.read_csv(\n",
    "    \"source/sentiment140/training.1600000.processed.noemoticon.csv\",\n",
    "    encoding='latin-1',\n",
    "    header=None,\n",
    "    names=[\"sentiment\",\"id_src\",\"date\",\"flag\",\"user\",\"text\"]\n",
    ")\n",
    "\n",
    "data_sentiment140[\"id\"] = data_sentiment140[\"id_src\"].apply(kaggle_id)\n",
    "data_sentiment140[\"sentiment\"] = data_sentiment140[\"sentiment\"].apply(random_sentiment)\n",
    "#data_sentiment140[\"lat\"] = data_sentiment140[\"sentiment\"].apply(random_location_lat)\n",
    "#data_sentiment140[\"lon\"] = data_sentiment140[\"sentiment\"].apply(random_location_lon)\n",
    "data_sentiment140[\"loc\"] = data_sentiment140.apply(random_location, axis=1)\n",
    "data_sentiment140[\"lat\"] = data_sentiment140[\"loc\"].apply(lambda loc: loc[0])\n",
    "data_sentiment140[\"lon\"] = data_sentiment140[\"loc\"].apply(lambda loc: loc[1])\n",
    "\n",
    "data_sentiment140 = data_sentiment140.head(100000).copy()\n",
    "print(data_sentiment140.shape)\n",
    "data_sentiment140.head()"
   ]
  },
  {
   "cell_type": "code",
   "execution_count": 13,
   "metadata": {},
   "outputs": [
    {
     "data": {
      "text/plain": [
       "<pymongo.results.InsertManyResult at 0x11001fb08>"
      ]
     },
     "execution_count": 13,
     "metadata": {},
     "output_type": "execute_result"
    }
   ],
   "source": [
    "db_collection.insert_many(data_sentiment140.to_dict('records'))"
   ]
  },
  {
   "cell_type": "code",
   "execution_count": 14,
   "metadata": {},
   "outputs": [
    {
     "name": "stdout",
     "output_type": "stream",
     "text": [
      "199989\n"
     ]
    },
    {
     "name": "stderr",
     "output_type": "stream",
     "text": [
      "/anaconda3/lib/python3.6/site-packages/ipykernel_launcher.py:1: DeprecationWarning: count is deprecated. Use estimated_document_count or count_documents instead. Please note that $where must be replaced by $expr, $near must be replaced by $geoWithin with $center, and $nearSphere must be replaced by $geoWithin with $centerSphere\n",
      "  \"\"\"Entry point for launching an IPython kernel.\n"
     ]
    }
   ],
   "source": [
    "print(db_collection.count())"
   ]
  },
  {
   "cell_type": "code",
   "execution_count": 15,
   "metadata": {},
   "outputs": [
    {
     "name": "stdout",
     "output_type": "stream",
     "text": [
      "{'_id': ObjectId('5bf69df1523ec4046518337b'), 'sentiment': 0, 'id_src': 1685029439, 'date': 'Sat May 02 22:49:09 PDT 2009', 'flag': 'NO_QUERY', 'user': 'arizzz', 'text': \"i work too much on the weekends. I'd like to blame my single status on that! \", 'id': 'kaggle_train_1685029439', 'loc': [38.87074543189877, -77.05818814834566], 'lat': 38.87074543189877, 'lon': -77.05818814834566}\n",
      "{'_id': ObjectId('5bf69dbe523ec4046515f763'), 'id_src': 8837, 'sentiment': 1, 'text': \" brokeback mountain was terrible.\\n8838,0,Sentiment140,# @Catherine42 I wouldn't mind but I only had 1/2 a portion &amp; then left 1/2 the cream  just fruit for me then until my hols  x\\n8839,1,Sentiment140,# @DeliciousLunch ... dark chocolate cookies? oh you tease! I'm writing to day n dipping into twitter for company \\n8840,1,Sentiment140,# followfriday @mstuyvenberg @feb_unsw @hazelmail @beckescreet - all almost as cool as he-man and she-ra \\n8841,1,Sentiment140,# followfriday @presentsqueen because she talks sense \\n8842,1,Sentiment140,# New York is the most amazing city i've ever been to \\n8843,0,Sentiment140,# number times I bottomed out just in our driveway = 4... a 6.5 hour trip to mass.. I'm scared \\n8844,0,Sentiment140,# of NYC celebrity street vendors &gt; # of POA celebrities  http://streetvendor.org/media/pdfs/Side2.pdf\\n8845,1,Sentiment140,###### yay ##### thanks @matclayton ##### \\n8846,0,Sentiment140,#$%#$^#%@ I HATE THE DENTIST\", 'id': 'kaggle_train_8837', 'loc': [38.89245294801222, -77.14727403696358], 'lat': 38.89245294801222, 'lon': -77.14727403696358}\n",
      "{'_id': ObjectId('5bf69dbf523ec40465165699'), 'id_src': 33220, 'sentiment': 1, 'text': '@ahohey  project design à¹\\x80à¸\\x94à¹\\x87à¸?à¸\\x9eà¸µà¹\\x88à¸\\x9bà¸µà¸\\x99à¸µà¹\\x89à¸¡à¸«à¹\\x89à¸\\xadà¸\\xadà¸?à¹?à¸\\x9aà¸\\x9aà¹\\x82à¸£à¸\\x87à¸\\x9eà¸¢à¸²à¸\\x9aà¸²à¸¥....à¸?à¸³à¸¥à¸±à¸\\x87à¸\\x97à¸³à¹\\x82à¸\\x9bà¸£à¹?à¸?à¸£à¸¡à¸\\xadà¸¢à¸¹à¹\\x88....à¹\\x80à¸\\x8aà¸´à¸?à¹\\x80à¸\\x95à¸¢à¸¡à¸² comment à¸\\x94à¸µà¸?à¸§à¹\\x88à¸² 5555    function à¹\\x80à¸¢à', 'id': 'kaggle_train_33220', 'loc': [41.34724231610729, 2.3003686059874715], 'lat': 41.34724231610729, 'lon': 2.3003686059874715}\n",
      "{'_id': ObjectId('5bf69dbf523ec40465168a06'), 'id_src': 46385, 'sentiment': -1, 'text': '@ApartHotel Ñ\\x82Ñ\\x8b Ñ?ÐºÐ¾Ñ\\x80ÐµÐµ Ð¿Ð¾Ñ\\x82ÐµÑ\\x80Ñ?ÐµÑ\\x88Ñ\\x8c Ð¸Ð»Ð¸ Ð¿Ð¾Ð¼ÐµÐ½Ñ?ÐµÑ\\x88Ñ\\x8c Ñ\\x82ÐµÐ»ÐµÑ\\x84Ð¾Ð½ Ð¿Ñ\\x80ÐµÐ¶Ð´Ðµ Ñ\\x87ÐµÐ¼ Ñ?Ð´Ð¾Ñ\\x85Ð½ÐµÑ\\x82 Ð°ÐºÐºÑ\\x83Ð¼Ñ\\x83Ð»Ñ?Ñ\\x82Ð¾Ñ\\x80  Ð\\x97Ð°Ñ\\x82Ð¾ Ð¿Ñ\\x80Ð¾Ñ\\x87Ð½Ð¾Ñ?Ñ\\x82Ñ\\x8c Ñ?Ð±Ð¾Ñ\\x80ÐºÐ¸ Ð±ÐµÑ?Ð¿Ð¾Ð´Ð¾Ð±Ð½Ð°Ñ? - ÐºÐ°Ðº Ð¼Ð¾Ð½Ð¾Ð»Ð¸Ñ\\x82!', 'id': 'kaggle_train_46385', 'loc': [42.363540348026916, -71.11168924294931], 'lat': 42.363540348026916, 'lon': -71.11168924294931}\n",
      "{'_id': ObjectId('5bf69df1523ec40465183352'), 'sentiment': 1, 'id_src': 1685018983, 'date': 'Sat May 02 22:46:57 PDT 2009', 'flag': 'NO_QUERY', 'user': 'rumblepurr', 'text': '@LouPeb me too  She a pretty princess @babypatches #pawpawty', 'id': 'kaggle_train_1685018983', 'loc': [34.117702241929614, -117.19407013807592], 'lat': 34.117702241929614, 'lon': -117.19407013807592}\n",
      "{'_id': ObjectId('5bf69df1523ec40465183353'), 'sentiment': 1, 'id_src': 1685018987, 'date': 'Sat May 02 22:46:57 PDT 2009', 'flag': 'NO_QUERY', 'user': 'king_pen', 'text': '@spicypants i only got one follower after your #ff yesterday  ', 'id': 'kaggle_train_1685018987', 'loc': [45.28139533712033, -75.3696170625004], 'lat': 45.28139533712033, 'lon': -75.3696170625004}\n",
      "{'_id': ObjectId('5bf69df1523ec40465183354'), 'sentiment': -1, 'id_src': 1685019252, 'date': 'Sat May 02 22:47:00 PDT 2009', 'flag': 'NO_QUERY', 'user': 'madeofmilk', 'text': '@madeofhoney mmkay. i got the perfect compromise. if u join the p.c.  im taking up violin. are u enjoying the moobie?', 'id': 'kaggle_train_1685019252', 'loc': [41.43464762034671, 2.233550791343694], 'lat': 41.43464762034671, 'lon': 2.233550791343694}\n",
      "{'_id': ObjectId('5bf69df1523ec40465183355'), 'sentiment': -1, 'id_src': 1685019652, 'date': 'Sat May 02 22:47:05 PDT 2009', 'flag': 'NO_QUERY', 'user': 'mynamesreallong', 'text': '@real_rodsizzler nope, odds were shitty  oh well what u doing badoy', 'id': 'kaggle_train_1685019652', 'loc': [45.41545854735157, -73.75456337802109], 'lat': 45.41545854735157, 'lon': -73.75456337802109}\n",
      "{'_id': ObjectId('5bf69df1523ec40465183356'), 'sentiment': -1, 'id_src': 1685019684, 'date': 'Sat May 02 22:47:05 PDT 2009', 'flag': 'NO_QUERY', 'user': 'VoniaPerna', 'text': 'Okay, really goodnight this time. Gotta frikin work again tomarrow  Sweet dreams everyone ZZZzzzzzz......', 'id': 'kaggle_train_1685019684', 'loc': [40.76498800202395, -74.09253361067799], 'lat': 40.76498800202395, 'lon': -74.09253361067799}\n",
      "{'_id': ObjectId('5bf69df1523ec40465183357'), 'sentiment': 0, 'id_src': 1685020527, 'date': 'Sat May 02 22:47:16 PDT 2009', 'flag': 'NO_QUERY', 'user': 'karenthecrasian', 'text': \"ahhhh eff! my phone number got deleted off the device thingy and now it's not letting me verify my number  so no tweets to my phone \", 'id': 'kaggle_train_1685020527', 'loc': [45.65247128549398, -73.66604550087179], 'lat': 45.65247128549398, 'lon': -73.66604550087179}\n"
     ]
    }
   ],
   "source": [
    "for tweet in db_collection.find()[:10]:\n",
    "    print(tweet)"
   ]
  },
  {
   "cell_type": "code",
   "execution_count": null,
   "metadata": {},
   "outputs": [],
   "source": []
  }
 ],
 "metadata": {
  "kernelspec": {
   "display_name": "Python 3",
   "language": "python",
   "name": "python3"
  },
  "language_info": {
   "codemirror_mode": {
    "name": "ipython",
    "version": 3
   },
   "file_extension": ".py",
   "mimetype": "text/x-python",
   "name": "python",
   "nbconvert_exporter": "python",
   "pygments_lexer": "ipython3",
   "version": "3.6.5"
  }
 },
 "nbformat": 4,
 "nbformat_minor": 2
}
