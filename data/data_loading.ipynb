{
 "cells": [
  {
   "cell_type": "markdown",
   "metadata": {},
   "source": [
    "# Load datasets to mLab\n",
    "\n",
    "* https://www.kaggle.com/c/twitter-sentiment-analysis2/discussion\n",
    "* https://www.kaggle.com/kazanova/sentiment140"
   ]
  },
  {
   "cell_type": "code",
   "execution_count": 1,
   "metadata": {},
   "outputs": [],
   "source": [
    "import pymongo\n",
    "import pandas as pd\n",
    "import numpy as np\n",
    "import random"
   ]
  },
  {
   "cell_type": "code",
   "execution_count": 7,
   "metadata": {},
   "outputs": [],
   "source": [
    "def db_connection(collection_name): \n",
    "    # connect to mLab DB\n",
    "    try:\n",
    "        with open(\"../credentials/mlab_credentials.txt\", 'r', encoding='utf-8') as f:\n",
    "            [name,password,url,dbname]=f.read().splitlines()\n",
    "            db_conn = pymongo.MongoClient(\"mongodb://{}:{}@{}/{}\".format(name,password,url,dbname))\n",
    "            print (\"DB connected successfully!!!\")\n",
    "    except pymongo.errors.ConnectionFailure as e:\n",
    "        print (\"Could not connect to DB: %s\" % e) \n",
    "        \n",
    "    db = db_conn[dbname]\n",
    "    collection = db[collection_name]\n",
    "    \n",
    "    return collection\n",
    "\n",
    "\n",
    "def kaggle_id(id):\n",
    "    return \"kaggle_train_\" + str(id)\n",
    "\n",
    "\n",
    "def sentiment140_id(id):\n",
    "    return \"sentiment140_\" + str(id)\n",
    "\n",
    "\n",
    "def random_sentiment(sentiment):\n",
    "    sentiments_list = [-2,-1,0,1,2]\n",
    "    return random.choice(sentiments_list)\n",
    "\n",
    "\n",
    "def random_location(dummy):\n",
    "    location = random.choice(locations_list)\n",
    "    #location = locations_list[0]\n",
    "    lat = random_location_lat(location)\n",
    "    lon = random_location_lon(location)\n",
    "    return [lat,lon]\n",
    "\n",
    "def random_location_lat(location):\n",
    "    #location = random.choice(locations_list)\n",
    "    #location = locations_list[0]\n",
    "    lat = location[\"lat_min\"] + random.random()*(location[\"lat_max\"] - location[\"lat_min\"])\n",
    "    return lat\n",
    "\n",
    "def random_location_lon(location):\n",
    "    #location = random.choice(locations_list)\n",
    "    #location = locations_list[0]\n",
    "    lon = location[\"lon_min\"] + random.random()*(location[\"lon_max\"] - location[\"lon_min\"])\n",
    "    return lon"
   ]
  },
  {
   "cell_type": "code",
   "execution_count": 3,
   "metadata": {},
   "outputs": [
    {
     "name": "stdout",
     "output_type": "stream",
     "text": [
      "DB connected successfully!!!\n"
     ]
    }
   ],
   "source": [
    "db_collection_locations = db_connection(\"twitter_happiness_locations\")\n",
    "locations_list = [location for location in db_collection_locations.find()]"
   ]
  },
  {
   "cell_type": "code",
   "execution_count": 4,
   "metadata": {},
   "outputs": [],
   "source": [
    "#locations_list"
   ]
  },
  {
   "cell_type": "code",
   "execution_count": 5,
   "metadata": {},
   "outputs": [
    {
     "name": "stdout",
     "output_type": "stream",
     "text": [
      "DB connected successfully!!!\n"
     ]
    }
   ],
   "source": [
    "db_collection = db_connection(\"twitter_happiness_test\")"
   ]
  },
  {
   "cell_type": "code",
   "execution_count": 8,
   "metadata": {},
   "outputs": [
    {
     "name": "stdout",
     "output_type": "stream",
     "text": [
      "199989  documents deleted\n"
     ]
    }
   ],
   "source": [
    "result = db_collection.delete_many({})\n",
    "print(result.deleted_count, \" documents deleted\")"
   ]
  },
  {
   "cell_type": "code",
   "execution_count": 9,
   "metadata": {},
   "outputs": [
    {
     "name": "stdout",
     "output_type": "stream",
     "text": [
      "(99989, 7)\n"
     ]
    },
    {
     "data": {
      "text/html": [
       "<div>\n",
       "<style scoped>\n",
       "    .dataframe tbody tr th:only-of-type {\n",
       "        vertical-align: middle;\n",
       "    }\n",
       "\n",
       "    .dataframe tbody tr th {\n",
       "        vertical-align: top;\n",
       "    }\n",
       "\n",
       "    .dataframe thead th {\n",
       "        text-align: right;\n",
       "    }\n",
       "</style>\n",
       "<table border=\"1\" class=\"dataframe\">\n",
       "  <thead>\n",
       "    <tr style=\"text-align: right;\">\n",
       "      <th></th>\n",
       "      <th>id_src</th>\n",
       "      <th>class</th>\n",
       "      <th>text</th>\n",
       "      <th>id</th>\n",
       "      <th>loc</th>\n",
       "      <th>lat</th>\n",
       "      <th>lon</th>\n",
       "    </tr>\n",
       "  </thead>\n",
       "  <tbody>\n",
       "    <tr>\n",
       "      <th>0</th>\n",
       "      <td>1</td>\n",
       "      <td>-2</td>\n",
       "      <td>is so sad for my APL frie...</td>\n",
       "      <td>kaggle_train_1</td>\n",
       "      <td>[38.981333804297265, -77.15491931110748]</td>\n",
       "      <td>38.981334</td>\n",
       "      <td>-77.154919</td>\n",
       "    </tr>\n",
       "    <tr>\n",
       "      <th>1</th>\n",
       "      <td>2</td>\n",
       "      <td>0</td>\n",
       "      <td>I missed the New Moon trail...</td>\n",
       "      <td>kaggle_train_2</td>\n",
       "      <td>[43.733680442819356, -79.59222822965694]</td>\n",
       "      <td>43.733680</td>\n",
       "      <td>-79.592228</td>\n",
       "    </tr>\n",
       "    <tr>\n",
       "      <th>2</th>\n",
       "      <td>3</td>\n",
       "      <td>-1</td>\n",
       "      <td>omg its already 7:30 :O</td>\n",
       "      <td>kaggle_train_3</td>\n",
       "      <td>[38.9932439682006, -77.14917773479065]</td>\n",
       "      <td>38.993244</td>\n",
       "      <td>-77.149178</td>\n",
       "    </tr>\n",
       "    <tr>\n",
       "      <th>3</th>\n",
       "      <td>4</td>\n",
       "      <td>2</td>\n",
       "      <td>.. Omgaga. Im sooo  im gunna CRy. I'...</td>\n",
       "      <td>kaggle_train_4</td>\n",
       "      <td>[38.9076675569785, -76.97757691267915]</td>\n",
       "      <td>38.907668</td>\n",
       "      <td>-76.977577</td>\n",
       "    </tr>\n",
       "    <tr>\n",
       "      <th>4</th>\n",
       "      <td>5</td>\n",
       "      <td>0</td>\n",
       "      <td>i think mi bf is cheating on me!!!   ...</td>\n",
       "      <td>kaggle_train_5</td>\n",
       "      <td>[41.59023240409761, -87.43576695423229]</td>\n",
       "      <td>41.590232</td>\n",
       "      <td>-87.435767</td>\n",
       "    </tr>\n",
       "  </tbody>\n",
       "</table>\n",
       "</div>"
      ],
      "text/plain": [
       "   id_src  class                                               text  \\\n",
       "0       1     -2                       is so sad for my APL frie...   \n",
       "1       2      0                     I missed the New Moon trail...   \n",
       "2       3     -1                            omg its already 7:30 :O   \n",
       "3       4      2            .. Omgaga. Im sooo  im gunna CRy. I'...   \n",
       "4       5      0           i think mi bf is cheating on me!!!   ...   \n",
       "\n",
       "               id                                       loc        lat  \\\n",
       "0  kaggle_train_1  [38.981333804297265, -77.15491931110748]  38.981334   \n",
       "1  kaggle_train_2  [43.733680442819356, -79.59222822965694]  43.733680   \n",
       "2  kaggle_train_3    [38.9932439682006, -77.14917773479065]  38.993244   \n",
       "3  kaggle_train_4    [38.9076675569785, -76.97757691267915]  38.907668   \n",
       "4  kaggle_train_5   [41.59023240409761, -87.43576695423229]  41.590232   \n",
       "\n",
       "         lon  \n",
       "0 -77.154919  \n",
       "1 -79.592228  \n",
       "2 -77.149178  \n",
       "3 -76.977577  \n",
       "4 -87.435767  "
      ]
     },
     "execution_count": 9,
     "metadata": {},
     "output_type": "execute_result"
    }
   ],
   "source": [
    "data_kaggle = pd.read_csv(\n",
    "    \"source/kaggle/train.csv\",\n",
    "    encoding='latin-1',\n",
    "    header=0,\n",
    "    names=[\"id_src\",\"class\",\"text\"]\n",
    ")\n",
    "\n",
    "\n",
    "data_kaggle[\"id\"] = data_kaggle[\"id_src\"].apply(kaggle_id)\n",
    "data_kaggle[\"class\"] = data_kaggle[\"class\"].apply(random_sentiment)\n",
    "#data_kaggle[\"lat\"] = data_kaggle[\"sentiment\"].apply(random_location_lat)\n",
    "#data_kaggle[\"lon\"] = data_kaggle[\"sentiment\"].apply(random_location_lon)\n",
    "data_kaggle[\"loc\"] = data_kaggle.apply(random_location, axis=1)\n",
    "data_kaggle[\"lat\"] = data_kaggle[\"loc\"].apply(lambda loc: loc[0])\n",
    "data_kaggle[\"lon\"] = data_kaggle[\"loc\"].apply(lambda loc: loc[1])\n",
    "\n",
    "\n",
    "print(data_kaggle.shape)\n",
    "data_kaggle.head()"
   ]
  },
  {
   "cell_type": "code",
   "execution_count": 10,
   "metadata": {},
   "outputs": [
    {
     "data": {
      "text/plain": [
       "<pymongo.results.InsertManyResult at 0x114791c08>"
      ]
     },
     "execution_count": 10,
     "metadata": {},
     "output_type": "execute_result"
    }
   ],
   "source": [
    "db_collection.insert_many(data_kaggle.to_dict('records'))"
   ]
  },
  {
   "cell_type": "code",
   "execution_count": 11,
   "metadata": {},
   "outputs": [
    {
     "name": "stdout",
     "output_type": "stream",
     "text": [
      "99989\n"
     ]
    },
    {
     "name": "stderr",
     "output_type": "stream",
     "text": [
      "/anaconda3/lib/python3.6/site-packages/ipykernel_launcher.py:1: DeprecationWarning: count is deprecated. Use estimated_document_count or count_documents instead. Please note that $where must be replaced by $expr, $near must be replaced by $geoWithin with $center, and $nearSphere must be replaced by $geoWithin with $centerSphere\n",
      "  \"\"\"Entry point for launching an IPython kernel.\n"
     ]
    }
   ],
   "source": [
    "print(db_collection.count())"
   ]
  },
  {
   "cell_type": "code",
   "execution_count": 12,
   "metadata": {},
   "outputs": [
    {
     "name": "stdout",
     "output_type": "stream",
     "text": [
      "(100000, 10)\n"
     ]
    },
    {
     "data": {
      "text/html": [
       "<div>\n",
       "<style scoped>\n",
       "    .dataframe tbody tr th:only-of-type {\n",
       "        vertical-align: middle;\n",
       "    }\n",
       "\n",
       "    .dataframe tbody tr th {\n",
       "        vertical-align: top;\n",
       "    }\n",
       "\n",
       "    .dataframe thead th {\n",
       "        text-align: right;\n",
       "    }\n",
       "</style>\n",
       "<table border=\"1\" class=\"dataframe\">\n",
       "  <thead>\n",
       "    <tr style=\"text-align: right;\">\n",
       "      <th></th>\n",
       "      <th>class</th>\n",
       "      <th>id_src</th>\n",
       "      <th>date</th>\n",
       "      <th>flag</th>\n",
       "      <th>user</th>\n",
       "      <th>text</th>\n",
       "      <th>id</th>\n",
       "      <th>loc</th>\n",
       "      <th>lat</th>\n",
       "      <th>lon</th>\n",
       "    </tr>\n",
       "  </thead>\n",
       "  <tbody>\n",
       "    <tr>\n",
       "      <th>0</th>\n",
       "      <td>-1</td>\n",
       "      <td>1467810369</td>\n",
       "      <td>Mon Apr 06 22:19:45 PDT 2009</td>\n",
       "      <td>NO_QUERY</td>\n",
       "      <td>_TheSpecialOne_</td>\n",
       "      <td>@switchfoot http://twitpic.com/2y1zl - Awww, t...</td>\n",
       "      <td>kaggle_train_1467810369</td>\n",
       "      <td>[41.331523875683835, 2.1349114960150715]</td>\n",
       "      <td>41.331524</td>\n",
       "      <td>2.134911</td>\n",
       "    </tr>\n",
       "    <tr>\n",
       "      <th>1</th>\n",
       "      <td>-1</td>\n",
       "      <td>1467810672</td>\n",
       "      <td>Mon Apr 06 22:19:49 PDT 2009</td>\n",
       "      <td>NO_QUERY</td>\n",
       "      <td>scotthamilton</td>\n",
       "      <td>is upset that he can't update his Facebook by ...</td>\n",
       "      <td>kaggle_train_1467810672</td>\n",
       "      <td>[-33.772829245136556, 151.03611980057138]</td>\n",
       "      <td>-33.772829</td>\n",
       "      <td>151.036120</td>\n",
       "    </tr>\n",
       "    <tr>\n",
       "      <th>2</th>\n",
       "      <td>0</td>\n",
       "      <td>1467810917</td>\n",
       "      <td>Mon Apr 06 22:19:53 PDT 2009</td>\n",
       "      <td>NO_QUERY</td>\n",
       "      <td>mattycus</td>\n",
       "      <td>@Kenichan I dived many times for the ball. Man...</td>\n",
       "      <td>kaggle_train_1467810917</td>\n",
       "      <td>[40.54281172590466, -73.65214426338818]</td>\n",
       "      <td>40.542812</td>\n",
       "      <td>-73.652144</td>\n",
       "    </tr>\n",
       "    <tr>\n",
       "      <th>3</th>\n",
       "      <td>1</td>\n",
       "      <td>1467811184</td>\n",
       "      <td>Mon Apr 06 22:19:57 PDT 2009</td>\n",
       "      <td>NO_QUERY</td>\n",
       "      <td>ElleCTF</td>\n",
       "      <td>my whole body feels itchy and like its on fire</td>\n",
       "      <td>kaggle_train_1467811184</td>\n",
       "      <td>[34.10697389905167, -118.84394706883405]</td>\n",
       "      <td>34.106974</td>\n",
       "      <td>-118.843947</td>\n",
       "    </tr>\n",
       "    <tr>\n",
       "      <th>4</th>\n",
       "      <td>0</td>\n",
       "      <td>1467811193</td>\n",
       "      <td>Mon Apr 06 22:19:57 PDT 2009</td>\n",
       "      <td>NO_QUERY</td>\n",
       "      <td>Karoli</td>\n",
       "      <td>@nationwideclass no, it's not behaving at all....</td>\n",
       "      <td>kaggle_train_1467811193</td>\n",
       "      <td>[42.1393270745795, -87.79467301487459]</td>\n",
       "      <td>42.139327</td>\n",
       "      <td>-87.794673</td>\n",
       "    </tr>\n",
       "  </tbody>\n",
       "</table>\n",
       "</div>"
      ],
      "text/plain": [
       "   class      id_src                          date      flag             user  \\\n",
       "0     -1  1467810369  Mon Apr 06 22:19:45 PDT 2009  NO_QUERY  _TheSpecialOne_   \n",
       "1     -1  1467810672  Mon Apr 06 22:19:49 PDT 2009  NO_QUERY    scotthamilton   \n",
       "2      0  1467810917  Mon Apr 06 22:19:53 PDT 2009  NO_QUERY         mattycus   \n",
       "3      1  1467811184  Mon Apr 06 22:19:57 PDT 2009  NO_QUERY          ElleCTF   \n",
       "4      0  1467811193  Mon Apr 06 22:19:57 PDT 2009  NO_QUERY           Karoli   \n",
       "\n",
       "                                                text                       id  \\\n",
       "0  @switchfoot http://twitpic.com/2y1zl - Awww, t...  kaggle_train_1467810369   \n",
       "1  is upset that he can't update his Facebook by ...  kaggle_train_1467810672   \n",
       "2  @Kenichan I dived many times for the ball. Man...  kaggle_train_1467810917   \n",
       "3    my whole body feels itchy and like its on fire   kaggle_train_1467811184   \n",
       "4  @nationwideclass no, it's not behaving at all....  kaggle_train_1467811193   \n",
       "\n",
       "                                         loc        lat         lon  \n",
       "0   [41.331523875683835, 2.1349114960150715]  41.331524    2.134911  \n",
       "1  [-33.772829245136556, 151.03611980057138] -33.772829  151.036120  \n",
       "2    [40.54281172590466, -73.65214426338818]  40.542812  -73.652144  \n",
       "3   [34.10697389905167, -118.84394706883405]  34.106974 -118.843947  \n",
       "4     [42.1393270745795, -87.79467301487459]  42.139327  -87.794673  "
      ]
     },
     "execution_count": 12,
     "metadata": {},
     "output_type": "execute_result"
    }
   ],
   "source": [
    "data_sentiment140 = pd.read_csv(\n",
    "    \"source/sentiment140/training.1600000.processed.noemoticon.csv\",\n",
    "    encoding='latin-1',\n",
    "    header=None,\n",
    "    names=[\"class\",\"id_src\",\"date\",\"flag\",\"user\",\"text\"]\n",
    ")\n",
    "\n",
    "data_sentiment140[\"id\"] = data_sentiment140[\"id_src\"].apply(kaggle_id)\n",
    "data_sentiment140[\"class\"] = data_sentiment140[\"class\"].apply(random_sentiment)\n",
    "#data_sentiment140[\"lat\"] = data_sentiment140[\"sentiment\"].apply(random_location_lat)\n",
    "#data_sentiment140[\"lon\"] = data_sentiment140[\"sentiment\"].apply(random_location_lon)\n",
    "data_sentiment140[\"loc\"] = data_sentiment140.apply(random_location, axis=1)\n",
    "data_sentiment140[\"lat\"] = data_sentiment140[\"loc\"].apply(lambda loc: loc[0])\n",
    "data_sentiment140[\"lon\"] = data_sentiment140[\"loc\"].apply(lambda loc: loc[1])\n",
    "\n",
    "data_sentiment140 = data_sentiment140.head(100000).copy()\n",
    "print(data_sentiment140.shape)\n",
    "data_sentiment140.head()"
   ]
  },
  {
   "cell_type": "code",
   "execution_count": 13,
   "metadata": {},
   "outputs": [
    {
     "data": {
      "text/plain": [
       "<pymongo.results.InsertManyResult at 0x16af652c8>"
      ]
     },
     "execution_count": 13,
     "metadata": {},
     "output_type": "execute_result"
    }
   ],
   "source": [
    "db_collection.insert_many(data_sentiment140.to_dict('records'))"
   ]
  },
  {
   "cell_type": "code",
   "execution_count": 14,
   "metadata": {},
   "outputs": [
    {
     "name": "stdout",
     "output_type": "stream",
     "text": [
      "199989\n"
     ]
    },
    {
     "name": "stderr",
     "output_type": "stream",
     "text": [
      "/anaconda3/lib/python3.6/site-packages/ipykernel_launcher.py:1: DeprecationWarning: count is deprecated. Use estimated_document_count or count_documents instead. Please note that $where must be replaced by $expr, $near must be replaced by $geoWithin with $center, and $nearSphere must be replaced by $geoWithin with $centerSphere\n",
      "  \"\"\"Entry point for launching an IPython kernel.\n"
     ]
    }
   ],
   "source": [
    "print(db_collection.count())"
   ]
  },
  {
   "cell_type": "code",
   "execution_count": 15,
   "metadata": {},
   "outputs": [
    {
     "name": "stdout",
     "output_type": "stream",
     "text": [
      "{'_id': ObjectId('5bffdcde523ec406ca2711b5'), 'id_src': 8837, 'class': 0, 'text': \" brokeback mountain was terrible.\\n8838,0,Sentiment140,# @Catherine42 I wouldn't mind but I only had 1/2 a portion &amp; then left 1/2 the cream  just fruit for me then until my hols  x\\n8839,1,Sentiment140,# @DeliciousLunch ... dark chocolate cookies? oh you tease! I'm writing to day n dipping into twitter for company \\n8840,1,Sentiment140,# followfriday @mstuyvenberg @feb_unsw @hazelmail @beckescreet - all almost as cool as he-man and she-ra \\n8841,1,Sentiment140,# followfriday @presentsqueen because she talks sense \\n8842,1,Sentiment140,# New York is the most amazing city i've ever been to \\n8843,0,Sentiment140,# number times I bottomed out just in our driveway = 4... a 6.5 hour trip to mass.. I'm scared \\n8844,0,Sentiment140,# of NYC celebrity street vendors &gt; # of POA celebrities  http://streetvendor.org/media/pdfs/Side2.pdf\\n8845,1,Sentiment140,###### yay ##### thanks @matclayton ##### \\n8846,0,Sentiment140,#$%#$^#%@ I HATE THE DENTIST\", 'id': 'kaggle_train_8837', 'loc': [42.39751443995061, -70.98949640422646], 'lat': 42.39751443995061, 'lon': -70.98949640422646}\n",
      "{'_id': ObjectId('5bffdcde523ec406ca2817d3'), 'id_src': 75948, 'class': -1, 'text': '@Bulgarin Ð\\x94Ð°, Ð¢ÐµÑ\\x80Ð¼Ð¸Ð½Ð°Ñ\\x82Ð¾Ñ\\x80Ð° Ð¿Ð¾Ñ?Ð¼Ð¾Ñ\\x82Ñ\\x80ÐµÐ», Ð¿Ñ\\x80Ð¸ÐºÐ¾Ð»Ñ\\x8cÐ½Ñ\\x8bÐ¹, Ð² Ð»Ñ\\x83Ñ\\x87Ñ\\x88Ð¸Ñ\\x85 Ñ\\x82Ñ\\x80Ð°Ð´Ð¸Ñ\\x86Ð¸Ñ?Ñ\\x85 Ð¿ÐµÑ\\x80Ð²Ñ\\x8bÑ\\x85 2 Ñ\\x87Ð°Ñ?Ñ\\x82ÐµÐ¹. Ð\\x94Ð°Ð¶Ðµ Ð¨Ð²Ð°Ñ\\x80Ñ\\x86Ð° Ð¾Ñ\\x82Ð¼Ð¾Ð´ÐµÐ»Ð¸Ñ\\x80Ð¾Ð²Ð°Ð»Ð¸ ', 'id': 'kaggle_train_75948', 'loc': [41.79638494301099, -87.64548837638453], 'lat': 41.79638494301099, 'lon': -87.64548837638453}\n",
      "{'_id': ObjectId('5bffdcdf523ec406ca286b86'), 'id_src': 97375, 'class': 2, 'text': '@ctrld Ð¥Ð¼Ð¼... Ð¯ Ð±Ñ\\x8b Ñ\\x82Ð¾Ð¶Ðµ Ð½Ðµ Ð¾Ñ\\x82ÐºÐ°Ð·Ð°Ð»Ñ?Ñ? Ð¿Ð¾Ð¿Ñ\\x80Ð¾Ð±Ð¾Ð²Ð°Ñ\\x82Ñ\\x8c Ñ?ÐµÐ±Ñ? Ð² Ñ?ÐºÐ°Ð»Ð¾Ð»Ð°Ð·Ð°Ð½Ð¸Ð¸. Ð\\x92Ð¾Ñ\\x82 Ñ\\x82Ð¾Ð»Ñ\\x8cÐºÐ¾ Ñ\\x83 Ð½Ð°Ñ? Ð²Ð¾ Ð\\x9bÑ\\x8cÐ²Ð¾Ð²Ðµ Ð¿Ð¾Ð´Ð¾Ð±Ð½Ñ\\x8bÑ\\x85 Ñ?ÐµÐºÑ\\x86Ð¸Ð¹ Ð½Ð°Ð²ÐµÑ\\x80Ð½Ñ?ÐºÐ° Ð½ÐµÑ\\x82 ', 'id': 'kaggle_train_97375', 'loc': [29.799950558864232, -95.30566308362526], 'lat': 29.799950558864232, 'lon': -95.30566308362526}\n",
      "{'_id': ObjectId('5bffdcde523ec406ca27ad01'), 'id_src': 48602, 'class': -2, 'text': '@Arwy Ð´Ð¸Ñ?Ðº Ð½Ðµ Ð¿Ñ\\x80Ð¾Ð²ÐµÑ\\x80Ñ?Ð», Ð½Ðµ Ð·Ð½Ð°Ñ\\x8e. Ð?Ð¾ Ð¿Ð¾ÐºÐ°Ð·Ð°Ð»Ð¾Ñ?Ñ\\x8c, Ñ\\x87Ñ\\x82Ð¾ backup Ð°Ð¹Ñ\\x84Ð¾Ð½Ð° Ð¾Ð¿Ñ?Ñ\\x82Ñ\\x8c Ð´ÐµÐ»Ð°ÐµÑ\\x82Ñ?Ñ? Ð´Ð¾Ð»Ð³Ð¾  Ð² Ð¿Ñ\\x80Ð¾Ñ\\x88Ð»Ð¾Ð¹ Ð²ÐµÑ\\x80Ñ?Ð¸Ð¸ Ð²Ñ\\x80Ð¾Ð´Ðµ Ð¿Ð¾Ð¿Ñ\\x80Ð°Ð²Ð¸Ð»Ð¸, Ð° Ñ?ÐµÐ¹Ñ\\x87Ð°Ñ? Ð¾Ð¿Ñ?Ñ\\x82Ñ\\x8c!', 'id': 'kaggle_train_48602', 'loc': [-33.89132928855806, 151.34236899490244], 'lat': -33.89132928855806, 'lon': 151.34236899490244}\n",
      "{'_id': ObjectId('5bffdcde523ec406ca27c1a5'), 'id_src': 53886, 'class': 2, 'text': '@aumpradya @BeYourCyber @jetboat @nuboat @9dap @godzeelus @mormmam à¸\\x82à¸\\xadà¸\\x9aà¸\\x84à¸¸à¸\\x93à¸\\x97à¸¸à¸?à¸\\x84à¸\\x99à¸¡à¸²à¸?à¸\\x84à¸£à¸±à¸\\x9a à¹?à¸«à¸¡à¹\\x80à¸\\x9eà¸·à¹\\x88à¸\\xadà¸\\x99à¹\\x86 à¹\\x83à¸\\x99 Twitter à¹\\x84à¸¡à¹\\x88à¹\\x80à¸\\x84à¸¢à¸\\x97à¸³à¹\\x83à¸«à¹\\x89à¸\\x9cà¸´à¸\\x94à¸«à¸§à¸±à¸\\x87à¹\\x80à¸¥à¸¢ ', 'id': 'kaggle_train_53886', 'loc': [-33.87446738186095, 151.03220800593647], 'lat': -33.87446738186095, 'lon': 151.03220800593647}\n",
      "{'_id': ObjectId('5bffdcde523ec406ca2770eb'), 'id_src': 33220, 'class': -1, 'text': '@ahohey  project design à¹\\x80à¸\\x94à¹\\x87à¸?à¸\\x9eà¸µà¹\\x88à¸\\x9bà¸µà¸\\x99à¸µà¹\\x89à¸¡à¸«à¹\\x89à¸\\xadà¸\\xadà¸?à¹?à¸\\x9aà¸\\x9aà¹\\x82à¸£à¸\\x87à¸\\x9eà¸¢à¸²à¸\\x9aà¸²à¸¥....à¸?à¸³à¸¥à¸±à¸\\x87à¸\\x97à¸³à¹\\x82à¸\\x9bà¸£à¹?à¸?à¸£à¸¡à¸\\xadà¸¢à¸¹à¹\\x88....à¹\\x80à¸\\x8aà¸´à¸?à¹\\x80à¸\\x95à¸¢à¸¡à¸² comment à¸\\x94à¸µà¸?à¸§à¹\\x88à¸² 5555    function à¹\\x80à¸¢à', 'id': 'kaggle_train_33220', 'loc': [-33.67742686191516, 151.08084492001032], 'lat': -33.67742686191516, 'lon': 151.08084492001032}\n",
      "{'_id': ObjectId('5bffdcde523ec406ca27a458'), 'id_src': 46385, 'class': -1, 'text': '@ApartHotel Ñ\\x82Ñ\\x8b Ñ?ÐºÐ¾Ñ\\x80ÐµÐµ Ð¿Ð¾Ñ\\x82ÐµÑ\\x80Ñ?ÐµÑ\\x88Ñ\\x8c Ð¸Ð»Ð¸ Ð¿Ð¾Ð¼ÐµÐ½Ñ?ÐµÑ\\x88Ñ\\x8c Ñ\\x82ÐµÐ»ÐµÑ\\x84Ð¾Ð½ Ð¿Ñ\\x80ÐµÐ¶Ð´Ðµ Ñ\\x87ÐµÐ¼ Ñ?Ð´Ð¾Ñ\\x85Ð½ÐµÑ\\x82 Ð°ÐºÐºÑ\\x83Ð¼Ñ\\x83Ð»Ñ?Ñ\\x82Ð¾Ñ\\x80  Ð\\x97Ð°Ñ\\x82Ð¾ Ð¿Ñ\\x80Ð¾Ñ\\x87Ð½Ð¾Ñ?Ñ\\x82Ñ\\x8c Ñ?Ð±Ð¾Ñ\\x80ÐºÐ¸ Ð±ÐµÑ?Ð¿Ð¾Ð´Ð¾Ð±Ð½Ð°Ñ? - ÐºÐ°Ðº Ð¼Ð¾Ð½Ð¾Ð»Ð¸Ñ\\x82!', 'id': 'kaggle_train_46385', 'loc': [40.83813264728151, -74.42515347735909], 'lat': 40.83813264728151, 'lon': -74.42515347735909}\n",
      "{'_id': ObjectId('5bffdcdf523ec406ca283ce9'), 'id_src': 85442, 'class': 0, 'text': '@ceggs Naw ! They just turned the burgers over ! Glad you fixed it though! ', 'id': 'kaggle_train_85442', 'loc': [45.429719664117535, -73.73025728551461], 'lat': 45.429719664117535, 'lon': -73.73025728551461}\n",
      "{'_id': ObjectId('5bffdcdf523ec406ca283ceb'), 'id_src': 85444, 'class': 0, 'text': '@ceggs what too?? - something with in ', 'id': 'kaggle_train_85444', 'loc': [34.512691367494284, -118.93628862678545], 'lat': 34.512691367494284, 'lon': -118.93628862678545}\n",
      "{'_id': ObjectId('5bffdcdf523ec406ca283cec'), 'id_src': 85445, 'class': -1, 'text': \"@cehsja, aah, TD...that's too bad! \", 'id': 'kaggle_train_85445', 'loc': [41.328549110485085, 2.2861113746008455], 'lat': 41.328549110485085, 'lon': 2.2861113746008455}\n"
     ]
    }
   ],
   "source": [
    "for tweet in db_collection.find()[:10]:\n",
    "    print(tweet)"
   ]
  },
  {
   "cell_type": "code",
   "execution_count": null,
   "metadata": {},
   "outputs": [],
   "source": []
  }
 ],
 "metadata": {
  "kernelspec": {
   "display_name": "Python 3",
   "language": "python",
   "name": "python3"
  },
  "language_info": {
   "codemirror_mode": {
    "name": "ipython",
    "version": 3
   },
   "file_extension": ".py",
   "mimetype": "text/x-python",
   "name": "python",
   "nbconvert_exporter": "python",
   "pygments_lexer": "ipython3",
   "version": "3.6.5"
  }
 },
 "nbformat": 4,
 "nbformat_minor": 2
}
