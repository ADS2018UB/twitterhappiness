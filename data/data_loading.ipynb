{
 "cells": [
  {
   "cell_type": "markdown",
   "metadata": {},
   "source": [
    "# Load datasets to mLab\n",
    "\n",
    "* https://www.kaggle.com/c/twitter-sentiment-analysis2/discussion\n",
    "* https://www.kaggle.com/kazanova/sentiment140"
   ]
  },
  {
   "cell_type": "code",
   "execution_count": 1,
   "metadata": {},
   "outputs": [],
   "source": [
    "import pymongo\n",
    "import pandas as pd\n",
    "import numpy as np\n",
    "import random"
   ]
  },
  {
   "cell_type": "code",
   "execution_count": 99,
   "metadata": {},
   "outputs": [],
   "source": [
    "def db_connection(collection_name): \n",
    "    # connect to mLab DB\n",
    "    try:\n",
    "        with open(\"../credentials/mlab_credentials.txt\", 'r', encoding='utf-8') as f:\n",
    "            [name,password,url,dbname]=f.read().splitlines()\n",
    "            db_conn = pymongo.MongoClient(\"mongodb://{}:{}@{}/{}\".format(name,password,url,dbname))\n",
    "            print (\"DB connected successfully!!!\")\n",
    "    except pymongo.errors.ConnectionFailure as e:\n",
    "        print (\"Could not connect to DB: %s\" % e) \n",
    "        \n",
    "    db = db_conn[dbname]\n",
    "    collection = db[collection_name]\n",
    "    \n",
    "    return collection\n",
    "\n",
    "\n",
    "def kaggle_id(id):\n",
    "    return \"kaggle_train_\" + str(id)\n",
    "\n",
    "\n",
    "def sentiment140_id(id):\n",
    "    return \"sentiment140_\" + str(id)\n",
    "\n",
    "\n",
    "def random_sentiment(sentiment):\n",
    "    sentiments_list = [-1,0,1]\n",
    "    return random.choice(sentiments_list)\n",
    "\n",
    "\n",
    "def random_location_lat(dummy):\n",
    "    #location = random.choice(locations_list)\n",
    "    location = locations_list[0]\n",
    "    lat = location[\"lat_min\"] + random.random()*(location[\"lat_max\"] - location[\"lat_min\"])\n",
    "    return lat\n",
    "\n",
    "def random_location_lon(dummy):\n",
    "    #location = random.choice(locations_list)\n",
    "    location = locations_list[0]\n",
    "    lon = location[\"lon_min\"] + random.random()*(location[\"lon_max\"] - location[\"lon_min\"])\n",
    "    return lon"
   ]
  },
  {
   "cell_type": "code",
   "execution_count": 100,
   "metadata": {},
   "outputs": [
    {
     "name": "stdout",
     "output_type": "stream",
     "text": [
      "DB connected successfully!!!\n"
     ]
    }
   ],
   "source": [
    "db_collection_locations = db_connection(\"twitter_happiness_locations\")\n",
    "locations_list = [location for location in db_collection_locations.find()]"
   ]
  },
  {
   "cell_type": "code",
   "execution_count": 102,
   "metadata": {},
   "outputs": [
    {
     "name": "stdout",
     "output_type": "stream",
     "text": [
      "DB connected successfully!!!\n"
     ]
    }
   ],
   "source": [
    "db_collection = db_connection(\"twitter_happiness_test\")"
   ]
  },
  {
   "cell_type": "code",
   "execution_count": 103,
   "metadata": {},
   "outputs": [
    {
     "name": "stdout",
     "output_type": "stream",
     "text": [
      "199989  documents deleted\n"
     ]
    }
   ],
   "source": [
    "result = db_collection.delete_many({})\n",
    "print(result.deleted_count, \" documents deleted\")"
   ]
  },
  {
   "cell_type": "code",
   "execution_count": 104,
   "metadata": {},
   "outputs": [
    {
     "name": "stdout",
     "output_type": "stream",
     "text": [
      "(99989, 6)\n"
     ]
    },
    {
     "data": {
      "text/html": [
       "<div>\n",
       "<style scoped>\n",
       "    .dataframe tbody tr th:only-of-type {\n",
       "        vertical-align: middle;\n",
       "    }\n",
       "\n",
       "    .dataframe tbody tr th {\n",
       "        vertical-align: top;\n",
       "    }\n",
       "\n",
       "    .dataframe thead th {\n",
       "        text-align: right;\n",
       "    }\n",
       "</style>\n",
       "<table border=\"1\" class=\"dataframe\">\n",
       "  <thead>\n",
       "    <tr style=\"text-align: right;\">\n",
       "      <th></th>\n",
       "      <th>id_src</th>\n",
       "      <th>sentiment</th>\n",
       "      <th>text</th>\n",
       "      <th>id</th>\n",
       "      <th>lat</th>\n",
       "      <th>lon</th>\n",
       "    </tr>\n",
       "  </thead>\n",
       "  <tbody>\n",
       "    <tr>\n",
       "      <th>0</th>\n",
       "      <td>1</td>\n",
       "      <td>-1</td>\n",
       "      <td>is so sad for my APL frie...</td>\n",
       "      <td>kaggle_train_1</td>\n",
       "      <td>41.368761</td>\n",
       "      <td>2.171951</td>\n",
       "    </tr>\n",
       "    <tr>\n",
       "      <th>1</th>\n",
       "      <td>2</td>\n",
       "      <td>-1</td>\n",
       "      <td>I missed the New Moon trail...</td>\n",
       "      <td>kaggle_train_2</td>\n",
       "      <td>41.429764</td>\n",
       "      <td>2.149436</td>\n",
       "    </tr>\n",
       "    <tr>\n",
       "      <th>2</th>\n",
       "      <td>3</td>\n",
       "      <td>1</td>\n",
       "      <td>omg its already 7:30 :O</td>\n",
       "      <td>kaggle_train_3</td>\n",
       "      <td>41.477446</td>\n",
       "      <td>2.187214</td>\n",
       "    </tr>\n",
       "    <tr>\n",
       "      <th>3</th>\n",
       "      <td>4</td>\n",
       "      <td>-1</td>\n",
       "      <td>.. Omgaga. Im sooo  im gunna CRy. I'...</td>\n",
       "      <td>kaggle_train_4</td>\n",
       "      <td>41.353495</td>\n",
       "      <td>2.318245</td>\n",
       "    </tr>\n",
       "    <tr>\n",
       "      <th>4</th>\n",
       "      <td>5</td>\n",
       "      <td>-1</td>\n",
       "      <td>i think mi bf is cheating on me!!!   ...</td>\n",
       "      <td>kaggle_train_5</td>\n",
       "      <td>41.393061</td>\n",
       "      <td>2.038820</td>\n",
       "    </tr>\n",
       "  </tbody>\n",
       "</table>\n",
       "</div>"
      ],
      "text/plain": [
       "   id_src  sentiment                                               text  \\\n",
       "0       1         -1                       is so sad for my APL frie...   \n",
       "1       2         -1                     I missed the New Moon trail...   \n",
       "2       3          1                            omg its already 7:30 :O   \n",
       "3       4         -1            .. Omgaga. Im sooo  im gunna CRy. I'...   \n",
       "4       5         -1           i think mi bf is cheating on me!!!   ...   \n",
       "\n",
       "               id        lat       lon  \n",
       "0  kaggle_train_1  41.368761  2.171951  \n",
       "1  kaggle_train_2  41.429764  2.149436  \n",
       "2  kaggle_train_3  41.477446  2.187214  \n",
       "3  kaggle_train_4  41.353495  2.318245  \n",
       "4  kaggle_train_5  41.393061  2.038820  "
      ]
     },
     "execution_count": 104,
     "metadata": {},
     "output_type": "execute_result"
    }
   ],
   "source": [
    "data_kaggle = pd.read_csv(\n",
    "    \"source/kaggle/train.csv\",\n",
    "    encoding='latin-1',\n",
    "    header=0,\n",
    "    names=[\"id_src\",\"sentiment\",\"text\"]\n",
    ")\n",
    "\n",
    "\n",
    "data_kaggle[\"id\"] = data_kaggle[\"id_src\"].apply(kaggle_id)\n",
    "data_kaggle[\"sentiment\"] = data_kaggle[\"sentiment\"].apply(random_sentiment)\n",
    "data_kaggle[\"lat\"] = data_kaggle[\"sentiment\"].apply(random_location_lat)\n",
    "data_kaggle[\"lon\"] = data_kaggle[\"sentiment\"].apply(random_location_lon)\n",
    "\n",
    "print(data_kaggle.shape)\n",
    "data_kaggle.head()"
   ]
  },
  {
   "cell_type": "code",
   "execution_count": 105,
   "metadata": {},
   "outputs": [
    {
     "data": {
      "text/plain": [
       "<pymongo.results.InsertManyResult at 0x10cf01f48>"
      ]
     },
     "execution_count": 105,
     "metadata": {},
     "output_type": "execute_result"
    }
   ],
   "source": [
    "db_collection.insert_many(data_kaggle.to_dict('records'))"
   ]
  },
  {
   "cell_type": "code",
   "execution_count": 106,
   "metadata": {},
   "outputs": [
    {
     "name": "stdout",
     "output_type": "stream",
     "text": [
      "99989\n"
     ]
    },
    {
     "name": "stderr",
     "output_type": "stream",
     "text": [
      "/anaconda3/lib/python3.6/site-packages/ipykernel_launcher.py:1: DeprecationWarning: count is deprecated. Use estimated_document_count or count_documents instead. Please note that $where must be replaced by $expr, $near must be replaced by $geoWithin with $center, and $nearSphere must be replaced by $geoWithin with $centerSphere\n",
      "  \"\"\"Entry point for launching an IPython kernel.\n"
     ]
    }
   ],
   "source": [
    "print(db_collection.count())"
   ]
  },
  {
   "cell_type": "code",
   "execution_count": 107,
   "metadata": {},
   "outputs": [
    {
     "name": "stdout",
     "output_type": "stream",
     "text": [
      "(100000, 9)\n"
     ]
    },
    {
     "data": {
      "text/html": [
       "<div>\n",
       "<style scoped>\n",
       "    .dataframe tbody tr th:only-of-type {\n",
       "        vertical-align: middle;\n",
       "    }\n",
       "\n",
       "    .dataframe tbody tr th {\n",
       "        vertical-align: top;\n",
       "    }\n",
       "\n",
       "    .dataframe thead th {\n",
       "        text-align: right;\n",
       "    }\n",
       "</style>\n",
       "<table border=\"1\" class=\"dataframe\">\n",
       "  <thead>\n",
       "    <tr style=\"text-align: right;\">\n",
       "      <th></th>\n",
       "      <th>sentiment</th>\n",
       "      <th>id_src</th>\n",
       "      <th>date</th>\n",
       "      <th>flag</th>\n",
       "      <th>user</th>\n",
       "      <th>text</th>\n",
       "      <th>id</th>\n",
       "      <th>lat</th>\n",
       "      <th>lon</th>\n",
       "    </tr>\n",
       "  </thead>\n",
       "  <tbody>\n",
       "    <tr>\n",
       "      <th>0</th>\n",
       "      <td>0</td>\n",
       "      <td>1467810369</td>\n",
       "      <td>Mon Apr 06 22:19:45 PDT 2009</td>\n",
       "      <td>NO_QUERY</td>\n",
       "      <td>_TheSpecialOne_</td>\n",
       "      <td>@switchfoot http://twitpic.com/2y1zl - Awww, t...</td>\n",
       "      <td>kaggle_train_1467810369</td>\n",
       "      <td>41.429487</td>\n",
       "      <td>2.068303</td>\n",
       "    </tr>\n",
       "    <tr>\n",
       "      <th>1</th>\n",
       "      <td>-1</td>\n",
       "      <td>1467810672</td>\n",
       "      <td>Mon Apr 06 22:19:49 PDT 2009</td>\n",
       "      <td>NO_QUERY</td>\n",
       "      <td>scotthamilton</td>\n",
       "      <td>is upset that he can't update his Facebook by ...</td>\n",
       "      <td>kaggle_train_1467810672</td>\n",
       "      <td>41.481117</td>\n",
       "      <td>2.281840</td>\n",
       "    </tr>\n",
       "    <tr>\n",
       "      <th>2</th>\n",
       "      <td>1</td>\n",
       "      <td>1467810917</td>\n",
       "      <td>Mon Apr 06 22:19:53 PDT 2009</td>\n",
       "      <td>NO_QUERY</td>\n",
       "      <td>mattycus</td>\n",
       "      <td>@Kenichan I dived many times for the ball. Man...</td>\n",
       "      <td>kaggle_train_1467810917</td>\n",
       "      <td>41.386288</td>\n",
       "      <td>2.233596</td>\n",
       "    </tr>\n",
       "    <tr>\n",
       "      <th>3</th>\n",
       "      <td>0</td>\n",
       "      <td>1467811184</td>\n",
       "      <td>Mon Apr 06 22:19:57 PDT 2009</td>\n",
       "      <td>NO_QUERY</td>\n",
       "      <td>ElleCTF</td>\n",
       "      <td>my whole body feels itchy and like its on fire</td>\n",
       "      <td>kaggle_train_1467811184</td>\n",
       "      <td>41.464487</td>\n",
       "      <td>2.224635</td>\n",
       "    </tr>\n",
       "    <tr>\n",
       "      <th>4</th>\n",
       "      <td>1</td>\n",
       "      <td>1467811193</td>\n",
       "      <td>Mon Apr 06 22:19:57 PDT 2009</td>\n",
       "      <td>NO_QUERY</td>\n",
       "      <td>Karoli</td>\n",
       "      <td>@nationwideclass no, it's not behaving at all....</td>\n",
       "      <td>kaggle_train_1467811193</td>\n",
       "      <td>41.393776</td>\n",
       "      <td>2.193467</td>\n",
       "    </tr>\n",
       "  </tbody>\n",
       "</table>\n",
       "</div>"
      ],
      "text/plain": [
       "   sentiment      id_src                          date      flag  \\\n",
       "0          0  1467810369  Mon Apr 06 22:19:45 PDT 2009  NO_QUERY   \n",
       "1         -1  1467810672  Mon Apr 06 22:19:49 PDT 2009  NO_QUERY   \n",
       "2          1  1467810917  Mon Apr 06 22:19:53 PDT 2009  NO_QUERY   \n",
       "3          0  1467811184  Mon Apr 06 22:19:57 PDT 2009  NO_QUERY   \n",
       "4          1  1467811193  Mon Apr 06 22:19:57 PDT 2009  NO_QUERY   \n",
       "\n",
       "              user                                               text  \\\n",
       "0  _TheSpecialOne_  @switchfoot http://twitpic.com/2y1zl - Awww, t...   \n",
       "1    scotthamilton  is upset that he can't update his Facebook by ...   \n",
       "2         mattycus  @Kenichan I dived many times for the ball. Man...   \n",
       "3          ElleCTF    my whole body feels itchy and like its on fire    \n",
       "4           Karoli  @nationwideclass no, it's not behaving at all....   \n",
       "\n",
       "                        id        lat       lon  \n",
       "0  kaggle_train_1467810369  41.429487  2.068303  \n",
       "1  kaggle_train_1467810672  41.481117  2.281840  \n",
       "2  kaggle_train_1467810917  41.386288  2.233596  \n",
       "3  kaggle_train_1467811184  41.464487  2.224635  \n",
       "4  kaggle_train_1467811193  41.393776  2.193467  "
      ]
     },
     "execution_count": 107,
     "metadata": {},
     "output_type": "execute_result"
    }
   ],
   "source": [
    "data_sentiment140 = pd.read_csv(\n",
    "    \"source/sentiment140/training.1600000.processed.noemoticon.csv\",\n",
    "    encoding='latin-1',\n",
    "    header=None,\n",
    "    names=[\"sentiment\",\"id_src\",\"date\",\"flag\",\"user\",\"text\"]\n",
    ")\n",
    "\n",
    "data_sentiment140[\"id\"] = data_sentiment140[\"id_src\"].apply(kaggle_id)\n",
    "data_sentiment140[\"sentiment\"] = data_sentiment140[\"sentiment\"].apply(random_sentiment)\n",
    "data_sentiment140[\"lat\"] = data_sentiment140[\"sentiment\"].apply(random_location_lat)\n",
    "data_sentiment140[\"lon\"] = data_sentiment140[\"sentiment\"].apply(random_location_lon)\n",
    "\n",
    "data_sentiment140 = data_sentiment140.head(100000).copy()\n",
    "print(data_sentiment140.shape)\n",
    "data_sentiment140.head()"
   ]
  },
  {
   "cell_type": "code",
   "execution_count": 108,
   "metadata": {},
   "outputs": [
    {
     "data": {
      "text/plain": [
       "<pymongo.results.InsertManyResult at 0x129914908>"
      ]
     },
     "execution_count": 108,
     "metadata": {},
     "output_type": "execute_result"
    }
   ],
   "source": [
    "db_collection.insert_many(data_sentiment140.to_dict('records'))"
   ]
  },
  {
   "cell_type": "code",
   "execution_count": 109,
   "metadata": {},
   "outputs": [
    {
     "name": "stdout",
     "output_type": "stream",
     "text": [
      "199989\n"
     ]
    },
    {
     "name": "stderr",
     "output_type": "stream",
     "text": [
      "/anaconda3/lib/python3.6/site-packages/ipykernel_launcher.py:1: DeprecationWarning: count is deprecated. Use estimated_document_count or count_documents instead. Please note that $where must be replaced by $expr, $near must be replaced by $geoWithin with $center, and $nearSphere must be replaced by $geoWithin with $centerSphere\n",
      "  \"\"\"Entry point for launching an IPython kernel.\n"
     ]
    }
   ],
   "source": [
    "print(db_collection.count())"
   ]
  },
  {
   "cell_type": "code",
   "execution_count": 110,
   "metadata": {},
   "outputs": [
    {
     "name": "stdout",
     "output_type": "stream",
     "text": [
      "{'_id': ObjectId('5be4ccd8523ec42211df429c'), 'sentiment': 1, 'id_src': 1678125392, 'date': 'Sat May 02 05:36:03 PDT 2009', 'flag': 'NO_QUERY', 'user': 'TuanaMey', 'text': 'Just had 5 hours sleep  Getting ready to meet with friends now...sun is shining yeay!', 'id': 'kaggle_train_1678125392', 'lat': 41.37048027368166, 'lon': 2.187112108088115}\n",
      "{'_id': ObjectId('5be4ccbc523ec42211dd1db6'), 'id_src': 8837, 'sentiment': 0, 'text': \" brokeback mountain was terrible.\\n8838,0,Sentiment140,# @Catherine42 I wouldn't mind but I only had 1/2 a portion &amp; then left 1/2 the cream  just fruit for me then until my hols  x\\n8839,1,Sentiment140,# @DeliciousLunch ... dark chocolate cookies? oh you tease! I'm writing to day n dipping into twitter for company \\n8840,1,Sentiment140,# followfriday @mstuyvenberg @feb_unsw @hazelmail @beckescreet - all almost as cool as he-man and she-ra \\n8841,1,Sentiment140,# followfriday @presentsqueen because she talks sense \\n8842,1,Sentiment140,# New York is the most amazing city i've ever been to \\n8843,0,Sentiment140,# number times I bottomed out just in our driveway = 4... a 6.5 hour trip to mass.. I'm scared \\n8844,0,Sentiment140,# of NYC celebrity street vendors &gt; # of POA celebrities  http://streetvendor.org/media/pdfs/Side2.pdf\\n8845,1,Sentiment140,###### yay ##### thanks @matclayton ##### \\n8846,0,Sentiment140,#$%#$^#%@ I HATE THE DENTIST\", 'id': 'kaggle_train_8837', 'lat': 41.341609604388, 'lon': 2.09165554703725}\n",
      "{'_id': ObjectId('5be4ccbd523ec42211ddb059'), 'id_src': 46385, 'sentiment': -1, 'text': '@ApartHotel Ñ\\x82Ñ\\x8b Ñ?ÐºÐ¾Ñ\\x80ÐµÐµ Ð¿Ð¾Ñ\\x82ÐµÑ\\x80Ñ?ÐµÑ\\x88Ñ\\x8c Ð¸Ð»Ð¸ Ð¿Ð¾Ð¼ÐµÐ½Ñ?ÐµÑ\\x88Ñ\\x8c Ñ\\x82ÐµÐ»ÐµÑ\\x84Ð¾Ð½ Ð¿Ñ\\x80ÐµÐ¶Ð´Ðµ Ñ\\x87ÐµÐ¼ Ñ?Ð´Ð¾Ñ\\x85Ð½ÐµÑ\\x82 Ð°ÐºÐºÑ\\x83Ð¼Ñ\\x83Ð»Ñ?Ñ\\x82Ð¾Ñ\\x80  Ð\\x97Ð°Ñ\\x82Ð¾ Ð¿Ñ\\x80Ð¾Ñ\\x87Ð½Ð¾Ñ?Ñ\\x82Ñ\\x8c Ñ?Ð±Ð¾Ñ\\x80ÐºÐ¸ Ð±ÐµÑ?Ð¿Ð¾Ð´Ð¾Ð±Ð½Ð°Ñ? - ÐºÐ°Ðº Ð¼Ð¾Ð½Ð¾Ð»Ð¸Ñ\\x82!', 'id': 'kaggle_train_46385', 'lat': 41.32569994506258, 'lon': 2.171622640299345}\n",
      "{'_id': ObjectId('5be4ccbd523ec42211ddb902'), 'id_src': 48602, 'sentiment': 0, 'text': '@Arwy Ð´Ð¸Ñ?Ðº Ð½Ðµ Ð¿Ñ\\x80Ð¾Ð²ÐµÑ\\x80Ñ?Ð», Ð½Ðµ Ð·Ð½Ð°Ñ\\x8e. Ð?Ð¾ Ð¿Ð¾ÐºÐ°Ð·Ð°Ð»Ð¾Ñ?Ñ\\x8c, Ñ\\x87Ñ\\x82Ð¾ backup Ð°Ð¹Ñ\\x84Ð¾Ð½Ð° Ð¾Ð¿Ñ?Ñ\\x82Ñ\\x8c Ð´ÐµÐ»Ð°ÐµÑ\\x82Ñ?Ñ? Ð´Ð¾Ð»Ð³Ð¾  Ð² Ð¿Ñ\\x80Ð¾Ñ\\x88Ð»Ð¾Ð¹ Ð²ÐµÑ\\x80Ñ?Ð¸Ð¸ Ð²Ñ\\x80Ð¾Ð´Ðµ Ð¿Ð¾Ð¿Ñ\\x80Ð°Ð²Ð¸Ð»Ð¸, Ð° Ñ?ÐµÐ¹Ñ\\x87Ð°Ñ? Ð¾Ð¿Ñ?Ñ\\x82Ñ\\x8c!', 'id': 'kaggle_train_48602', 'lat': 41.492150156489885, 'lon': 2.1458119725609643}\n",
      "{'_id': ObjectId('5be4ccd8523ec42211df4268'), 'sentiment': 1, 'id_src': 1678107269, 'date': 'Sat May 02 05:31:31 PDT 2009', 'flag': 'NO_QUERY', 'user': 'sexychi', 'text': \"getting ready 2 go to a car show with the 'rents. wtf was I thinking?? still no sleep \", 'id': 'kaggle_train_1678107269', 'lat': 41.47020175135485, 'lon': 2.2860113810596308}\n",
      "{'_id': ObjectId('5be4ccd8523ec42211df4269'), 'sentiment': 1, 'id_src': 1678107394, 'date': 'Sat May 02 05:31:33 PDT 2009', 'flag': 'NO_QUERY', 'user': 'flawedheroine', 'text': 'Is less than excited to see Wolverine now... Poor Deadpool.  No substantial part and no spin off. ', 'id': 'kaggle_train_1678107394', 'lat': 41.449889958889095, 'lon': 2.094135251073634}\n",
      "{'_id': ObjectId('5be4ccd8523ec42211df426a'), 'sentiment': 1, 'id_src': 1678107641, 'date': 'Sat May 02 05:31:36 PDT 2009', 'flag': 'NO_QUERY', 'user': 'debralynntaylor', 'text': 'Happy Saturday everyone!  Doing some house cleaning today!  Would rather be sewing ', 'id': 'kaggle_train_1678107641', 'lat': 41.337845339140046, 'lon': 2.049250835136764}\n",
      "{'_id': ObjectId('5be4ccd8523ec42211df426b'), 'sentiment': 1, 'id_src': 1678107754, 'date': 'Sat May 02 05:31:38 PDT 2009', 'flag': 'NO_QUERY', 'user': 'kolfriendfeed', 'text': \"@Eyebee I'd like to use FeedBlitz but it's not free.  http://bit.ly/lxZlD\", 'id': 'kaggle_train_1678107754', 'lat': 41.38753703411924, 'lon': 2.1146595863360087}\n",
      "{'_id': ObjectId('5be4ccd8523ec42211df426c'), 'sentiment': 1, 'id_src': 1678108015, 'date': 'Sat May 02 05:31:42 PDT 2009', 'flag': 'NO_QUERY', 'user': 'VballChicaxLOVE', 'text': 'Im so tireddddddd. Getting ready to go t school  have to be there by 9.', 'id': 'kaggle_train_1678108015', 'lat': 41.47142585176478, 'lon': 2.12216973684405}\n",
      "{'_id': ObjectId('5be4ccd8523ec42211df426e'), 'sentiment': 0, 'id_src': 1678108492, 'date': 'Sat May 02 05:31:50 PDT 2009', 'flag': 'NO_QUERY', 'user': 'Eddie_Endy09', 'text': 'At work l, working  Yay prom tonight &lt;3', 'id': 'kaggle_train_1678108492', 'lat': 41.371464168733084, 'lon': 2.0764994222099737}\n"
     ]
    }
   ],
   "source": [
    "for tweet in db_collection.find()[:10]:\n",
    "    print(tweet)"
   ]
  },
  {
   "cell_type": "code",
   "execution_count": null,
   "metadata": {},
   "outputs": [],
   "source": []
  }
 ],
 "metadata": {
  "kernelspec": {
   "display_name": "Python 3",
   "language": "python",
   "name": "python3"
  },
  "language_info": {
   "codemirror_mode": {
    "name": "ipython",
    "version": 3
   },
   "file_extension": ".py",
   "mimetype": "text/x-python",
   "name": "python",
   "nbconvert_exporter": "python",
   "pygments_lexer": "ipython3",
   "version": "3.6.5"
  }
 },
 "nbformat": 4,
 "nbformat_minor": 2
}
