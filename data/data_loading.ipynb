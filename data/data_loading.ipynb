{
 "cells": [
  {
   "cell_type": "markdown",
   "metadata": {},
   "source": [
    "# Load datasets to mLab\n",
    "\n",
    "* https://www.kaggle.com/c/twitter-sentiment-analysis2/discussion\n",
    "* https://www.kaggle.com/kazanova/sentiment140"
   ]
  },
  {
   "cell_type": "code",
   "execution_count": 1,
   "metadata": {},
   "outputs": [],
   "source": [
    "import pymongo\n",
    "import pandas as pd\n",
    "import numpy as np\n",
    "import random"
   ]
  },
  {
   "cell_type": "code",
   "execution_count": 2,
   "metadata": {},
   "outputs": [],
   "source": [
    "def db_connection(collection_name): \n",
    "    # connect to mLab DB\n",
    "    try:\n",
    "        with open(\"../credentials/mlab_credentials.txt\", 'r', encoding='utf-8') as f:\n",
    "            [name,password,url,dbname]=f.read().splitlines()\n",
    "            db_conn = pymongo.MongoClient(\"mongodb://{}:{}@{}/{}\".format(name,password,url,dbname))\n",
    "            print (\"DB connected successfully!!!\")\n",
    "    except pymongo.errors.ConnectionFailure as e:\n",
    "        print (\"Could not connect to DB: %s\" % e) \n",
    "        \n",
    "    db = db_conn[dbname]\n",
    "    collection = db[collection_name]\n",
    "    \n",
    "    return collection\n",
    "\n",
    "\n",
    "def kaggle_id(id):\n",
    "    return \"kaggle_train_\" + str(id)\n",
    "\n",
    "\n",
    "def sentiment140_id(id):\n",
    "    return \"sentiment140_\" + str(id)\n",
    "\n",
    "\n",
    "def random_sentiment(sentiment):\n",
    "    sentiments_list = [-2,-1,0,1,2]\n",
    "    return random.choice(sentiments_list)\n",
    "\n",
    "\n",
    "def random_location(dummy):\n",
    "    location = random.choice(locations_list)\n",
    "    #location = locations_list[0]\n",
    "    lat = random_location_lat(location)\n",
    "    lon = random_location_lon(location)\n",
    "    return [lat,lon]\n",
    "\n",
    "def random_location_lat(location):\n",
    "    #location = random.choice(locations_list)\n",
    "    #location = locations_list[0]\n",
    "    lat = location[\"lat_min\"] + random.random()*(location[\"lat_max\"] - location[\"lat_min\"])\n",
    "    return lat\n",
    "\n",
    "def random_location_lon(location):\n",
    "    #location = random.choice(locations_list)\n",
    "    #location = locations_list[0]\n",
    "    lon = location[\"lon_min\"] + random.random()*(location[\"lon_max\"] - location[\"lon_min\"])\n",
    "    return lon"
   ]
  },
  {
   "cell_type": "code",
   "execution_count": 3,
   "metadata": {},
   "outputs": [
    {
     "name": "stdout",
     "output_type": "stream",
     "text": [
      "DB connected successfully!!!\n"
     ]
    }
   ],
   "source": [
    "db_collection_locations = db_connection(\"twitter_happiness_locations\")\n",
    "locations_list = [location for location in db_collection_locations.find()]"
   ]
  },
  {
   "cell_type": "code",
   "execution_count": 4,
   "metadata": {},
   "outputs": [],
   "source": [
    "#locations_list"
   ]
  },
  {
   "cell_type": "code",
   "execution_count": 5,
   "metadata": {},
   "outputs": [
    {
     "name": "stdout",
     "output_type": "stream",
     "text": [
      "DB connected successfully!!!\n"
     ]
    }
   ],
   "source": [
    "db_collection = db_connection(\"twitter_happiness_test\")"
   ]
  },
  {
   "cell_type": "code",
   "execution_count": 8,
   "metadata": {},
   "outputs": [
    {
     "name": "stdout",
     "output_type": "stream",
     "text": [
      "199989  documents deleted\n"
     ]
    }
   ],
   "source": [
    "# uncomment to delete\n",
    "#result = db_collection.delete_many({})\n",
    "#print(result.deleted_count, \" documents deleted\")"
   ]
  },
  {
   "cell_type": "code",
   "execution_count": 6,
   "metadata": {},
   "outputs": [
    {
     "name": "stdout",
     "output_type": "stream",
     "text": [
      "(99989, 7)\n"
     ]
    },
    {
     "data": {
      "text/html": [
       "<div>\n",
       "<style scoped>\n",
       "    .dataframe tbody tr th:only-of-type {\n",
       "        vertical-align: middle;\n",
       "    }\n",
       "\n",
       "    .dataframe tbody tr th {\n",
       "        vertical-align: top;\n",
       "    }\n",
       "\n",
       "    .dataframe thead th {\n",
       "        text-align: right;\n",
       "    }\n",
       "</style>\n",
       "<table border=\"1\" class=\"dataframe\">\n",
       "  <thead>\n",
       "    <tr style=\"text-align: right;\">\n",
       "      <th></th>\n",
       "      <th>id_src</th>\n",
       "      <th>class</th>\n",
       "      <th>text</th>\n",
       "      <th>id</th>\n",
       "      <th>loc</th>\n",
       "      <th>lat</th>\n",
       "      <th>lon</th>\n",
       "    </tr>\n",
       "  </thead>\n",
       "  <tbody>\n",
       "    <tr>\n",
       "      <th>0</th>\n",
       "      <td>1</td>\n",
       "      <td>0</td>\n",
       "      <td>is so sad for my APL frie...</td>\n",
       "      <td>kaggle_train_1</td>\n",
       "      <td>[29.582283560127767, -95.2123669360277]</td>\n",
       "      <td>29.582284</td>\n",
       "      <td>-95.212367</td>\n",
       "    </tr>\n",
       "    <tr>\n",
       "      <th>1</th>\n",
       "      <td>2</td>\n",
       "      <td>-1</td>\n",
       "      <td>I missed the New Moon trail...</td>\n",
       "      <td>kaggle_train_2</td>\n",
       "      <td>[-33.570346425730314, 151.21344609642875]</td>\n",
       "      <td>-33.570346</td>\n",
       "      <td>151.213446</td>\n",
       "    </tr>\n",
       "    <tr>\n",
       "      <th>2</th>\n",
       "      <td>3</td>\n",
       "      <td>-1</td>\n",
       "      <td>omg its already 7:30 :O</td>\n",
       "      <td>kaggle_train_3</td>\n",
       "      <td>[45.47313525058968, -73.41354389931941]</td>\n",
       "      <td>45.473135</td>\n",
       "      <td>-73.413544</td>\n",
       "    </tr>\n",
       "    <tr>\n",
       "      <th>3</th>\n",
       "      <td>4</td>\n",
       "      <td>0</td>\n",
       "      <td>.. Omgaga. Im sooo  im gunna CRy. I'...</td>\n",
       "      <td>kaggle_train_4</td>\n",
       "      <td>[40.604535732046614, -73.72297983977568]</td>\n",
       "      <td>40.604536</td>\n",
       "      <td>-73.722980</td>\n",
       "    </tr>\n",
       "    <tr>\n",
       "      <th>4</th>\n",
       "      <td>5</td>\n",
       "      <td>1</td>\n",
       "      <td>i think mi bf is cheating on me!!!   ...</td>\n",
       "      <td>kaggle_train_5</td>\n",
       "      <td>[39.02454595409937, -76.98676381131986]</td>\n",
       "      <td>39.024546</td>\n",
       "      <td>-76.986764</td>\n",
       "    </tr>\n",
       "  </tbody>\n",
       "</table>\n",
       "</div>"
      ],
      "text/plain": [
       "   id_src  class                                               text  \\\n",
       "0       1      0                       is so sad for my APL frie...   \n",
       "1       2     -1                     I missed the New Moon trail...   \n",
       "2       3     -1                            omg its already 7:30 :O   \n",
       "3       4      0            .. Omgaga. Im sooo  im gunna CRy. I'...   \n",
       "4       5      1           i think mi bf is cheating on me!!!   ...   \n",
       "\n",
       "               id                                        loc        lat  \\\n",
       "0  kaggle_train_1    [29.582283560127767, -95.2123669360277]  29.582284   \n",
       "1  kaggle_train_2  [-33.570346425730314, 151.21344609642875] -33.570346   \n",
       "2  kaggle_train_3    [45.47313525058968, -73.41354389931941]  45.473135   \n",
       "3  kaggle_train_4   [40.604535732046614, -73.72297983977568]  40.604536   \n",
       "4  kaggle_train_5    [39.02454595409937, -76.98676381131986]  39.024546   \n",
       "\n",
       "          lon  \n",
       "0  -95.212367  \n",
       "1  151.213446  \n",
       "2  -73.413544  \n",
       "3  -73.722980  \n",
       "4  -76.986764  "
      ]
     },
     "execution_count": 6,
     "metadata": {},
     "output_type": "execute_result"
    }
   ],
   "source": [
    "data_kaggle = pd.read_csv(\n",
    "    \"source/kaggle/train.csv\",\n",
    "    encoding='latin-1',\n",
    "    header=0,\n",
    "    names=[\"id_src\",\"class\",\"text\"]\n",
    ")\n",
    "\n",
    "\n",
    "data_kaggle[\"id\"] = data_kaggle[\"id_src\"].apply(kaggle_id)\n",
    "data_kaggle[\"class\"] = data_kaggle[\"class\"].apply(random_sentiment)\n",
    "#data_kaggle[\"lat\"] = data_kaggle[\"sentiment\"].apply(random_location_lat)\n",
    "#data_kaggle[\"lon\"] = data_kaggle[\"sentiment\"].apply(random_location_lon)\n",
    "data_kaggle[\"loc\"] = data_kaggle.apply(random_location, axis=1)\n",
    "data_kaggle[\"lat\"] = data_kaggle[\"loc\"].apply(lambda loc: loc[0])\n",
    "data_kaggle[\"lon\"] = data_kaggle[\"loc\"].apply(lambda loc: loc[1])\n",
    "\n",
    "\n",
    "print(data_kaggle.shape)\n",
    "data_kaggle.head()"
   ]
  },
  {
   "cell_type": "code",
   "execution_count": 7,
   "metadata": {},
   "outputs": [
    {
     "data": {
      "text/plain": [
       "<pymongo.results.InsertManyResult at 0x111c73d48>"
      ]
     },
     "execution_count": 7,
     "metadata": {},
     "output_type": "execute_result"
    }
   ],
   "source": [
    "db_collection.insert_many(data_kaggle.to_dict('records'))"
   ]
  },
  {
   "cell_type": "code",
   "execution_count": 8,
   "metadata": {},
   "outputs": [
    {
     "name": "stdout",
     "output_type": "stream",
     "text": [
      "99989\n"
     ]
    },
    {
     "name": "stderr",
     "output_type": "stream",
     "text": [
      "/anaconda3/lib/python3.6/site-packages/ipykernel_launcher.py:1: DeprecationWarning: count is deprecated. Use estimated_document_count or count_documents instead. Please note that $where must be replaced by $expr, $near must be replaced by $geoWithin with $center, and $nearSphere must be replaced by $geoWithin with $centerSphere\n",
      "  \"\"\"Entry point for launching an IPython kernel.\n"
     ]
    }
   ],
   "source": [
    "print(db_collection.count())"
   ]
  },
  {
   "cell_type": "code",
   "execution_count": 9,
   "metadata": {},
   "outputs": [
    {
     "name": "stdout",
     "output_type": "stream",
     "text": [
      "(100000, 10)\n"
     ]
    },
    {
     "data": {
      "text/html": [
       "<div>\n",
       "<style scoped>\n",
       "    .dataframe tbody tr th:only-of-type {\n",
       "        vertical-align: middle;\n",
       "    }\n",
       "\n",
       "    .dataframe tbody tr th {\n",
       "        vertical-align: top;\n",
       "    }\n",
       "\n",
       "    .dataframe thead th {\n",
       "        text-align: right;\n",
       "    }\n",
       "</style>\n",
       "<table border=\"1\" class=\"dataframe\">\n",
       "  <thead>\n",
       "    <tr style=\"text-align: right;\">\n",
       "      <th></th>\n",
       "      <th>class</th>\n",
       "      <th>id_src</th>\n",
       "      <th>date</th>\n",
       "      <th>flag</th>\n",
       "      <th>user</th>\n",
       "      <th>text</th>\n",
       "      <th>id</th>\n",
       "      <th>loc</th>\n",
       "      <th>lat</th>\n",
       "      <th>lon</th>\n",
       "    </tr>\n",
       "  </thead>\n",
       "  <tbody>\n",
       "    <tr>\n",
       "      <th>0</th>\n",
       "      <td>0</td>\n",
       "      <td>1467810369</td>\n",
       "      <td>Mon Apr 06 22:19:45 PDT 2009</td>\n",
       "      <td>NO_QUERY</td>\n",
       "      <td>_TheSpecialOne_</td>\n",
       "      <td>@switchfoot http://twitpic.com/2y1zl - Awww, t...</td>\n",
       "      <td>kaggle_train_1467810369</td>\n",
       "      <td>[41.36557063353792, 2.157612647313772]</td>\n",
       "      <td>41.365571</td>\n",
       "      <td>2.157613</td>\n",
       "    </tr>\n",
       "    <tr>\n",
       "      <th>1</th>\n",
       "      <td>-1</td>\n",
       "      <td>1467810672</td>\n",
       "      <td>Mon Apr 06 22:19:49 PDT 2009</td>\n",
       "      <td>NO_QUERY</td>\n",
       "      <td>scotthamilton</td>\n",
       "      <td>is upset that he can't update his Facebook by ...</td>\n",
       "      <td>kaggle_train_1467810672</td>\n",
       "      <td>[45.50605609468136, -73.32406387925283]</td>\n",
       "      <td>45.506056</td>\n",
       "      <td>-73.324064</td>\n",
       "    </tr>\n",
       "    <tr>\n",
       "      <th>2</th>\n",
       "      <td>2</td>\n",
       "      <td>1467810917</td>\n",
       "      <td>Mon Apr 06 22:19:53 PDT 2009</td>\n",
       "      <td>NO_QUERY</td>\n",
       "      <td>mattycus</td>\n",
       "      <td>@Kenichan I dived many times for the ball. Man...</td>\n",
       "      <td>kaggle_train_1467810917</td>\n",
       "      <td>[34.08652157769123, -117.29293802932993]</td>\n",
       "      <td>34.086522</td>\n",
       "      <td>-117.292938</td>\n",
       "    </tr>\n",
       "    <tr>\n",
       "      <th>3</th>\n",
       "      <td>2</td>\n",
       "      <td>1467811184</td>\n",
       "      <td>Mon Apr 06 22:19:57 PDT 2009</td>\n",
       "      <td>NO_QUERY</td>\n",
       "      <td>ElleCTF</td>\n",
       "      <td>my whole body feels itchy and like its on fire</td>\n",
       "      <td>kaggle_train_1467811184</td>\n",
       "      <td>[38.84224867762802, -77.18531654343933]</td>\n",
       "      <td>38.842249</td>\n",
       "      <td>-77.185317</td>\n",
       "    </tr>\n",
       "    <tr>\n",
       "      <th>4</th>\n",
       "      <td>-1</td>\n",
       "      <td>1467811193</td>\n",
       "      <td>Mon Apr 06 22:19:57 PDT 2009</td>\n",
       "      <td>NO_QUERY</td>\n",
       "      <td>Karoli</td>\n",
       "      <td>@nationwideclass no, it's not behaving at all....</td>\n",
       "      <td>kaggle_train_1467811193</td>\n",
       "      <td>[38.78221887701957, -77.1430162922284]</td>\n",
       "      <td>38.782219</td>\n",
       "      <td>-77.143016</td>\n",
       "    </tr>\n",
       "  </tbody>\n",
       "</table>\n",
       "</div>"
      ],
      "text/plain": [
       "   class      id_src                          date      flag             user  \\\n",
       "0      0  1467810369  Mon Apr 06 22:19:45 PDT 2009  NO_QUERY  _TheSpecialOne_   \n",
       "1     -1  1467810672  Mon Apr 06 22:19:49 PDT 2009  NO_QUERY    scotthamilton   \n",
       "2      2  1467810917  Mon Apr 06 22:19:53 PDT 2009  NO_QUERY         mattycus   \n",
       "3      2  1467811184  Mon Apr 06 22:19:57 PDT 2009  NO_QUERY          ElleCTF   \n",
       "4     -1  1467811193  Mon Apr 06 22:19:57 PDT 2009  NO_QUERY           Karoli   \n",
       "\n",
       "                                                text                       id  \\\n",
       "0  @switchfoot http://twitpic.com/2y1zl - Awww, t...  kaggle_train_1467810369   \n",
       "1  is upset that he can't update his Facebook by ...  kaggle_train_1467810672   \n",
       "2  @Kenichan I dived many times for the ball. Man...  kaggle_train_1467810917   \n",
       "3    my whole body feels itchy and like its on fire   kaggle_train_1467811184   \n",
       "4  @nationwideclass no, it's not behaving at all....  kaggle_train_1467811193   \n",
       "\n",
       "                                        loc        lat         lon  \n",
       "0    [41.36557063353792, 2.157612647313772]  41.365571    2.157613  \n",
       "1   [45.50605609468136, -73.32406387925283]  45.506056  -73.324064  \n",
       "2  [34.08652157769123, -117.29293802932993]  34.086522 -117.292938  \n",
       "3   [38.84224867762802, -77.18531654343933]  38.842249  -77.185317  \n",
       "4    [38.78221887701957, -77.1430162922284]  38.782219  -77.143016  "
      ]
     },
     "execution_count": 9,
     "metadata": {},
     "output_type": "execute_result"
    }
   ],
   "source": [
    "data_sentiment140 = pd.read_csv(\n",
    "    \"source/sentiment140/training.1600000.processed.noemoticon.csv\",\n",
    "    encoding='latin-1',\n",
    "    header=None,\n",
    "    names=[\"class\",\"id_src\",\"date\",\"flag\",\"user\",\"text\"]\n",
    ")\n",
    "\n",
    "data_sentiment140[\"id\"] = data_sentiment140[\"id_src\"].apply(kaggle_id)\n",
    "data_sentiment140[\"class\"] = data_sentiment140[\"class\"].apply(random_sentiment)\n",
    "#data_sentiment140[\"lat\"] = data_sentiment140[\"sentiment\"].apply(random_location_lat)\n",
    "#data_sentiment140[\"lon\"] = data_sentiment140[\"sentiment\"].apply(random_location_lon)\n",
    "data_sentiment140[\"loc\"] = data_sentiment140.apply(random_location, axis=1)\n",
    "data_sentiment140[\"lat\"] = data_sentiment140[\"loc\"].apply(lambda loc: loc[0])\n",
    "data_sentiment140[\"lon\"] = data_sentiment140[\"loc\"].apply(lambda loc: loc[1])\n",
    "\n",
    "data_sentiment140 = data_sentiment140.head(100000).copy()\n",
    "print(data_sentiment140.shape)\n",
    "data_sentiment140.head()"
   ]
  },
  {
   "cell_type": "code",
   "execution_count": 10,
   "metadata": {},
   "outputs": [
    {
     "data": {
      "text/plain": [
       "<pymongo.results.InsertManyResult at 0x1634367c8>"
      ]
     },
     "execution_count": 10,
     "metadata": {},
     "output_type": "execute_result"
    }
   ],
   "source": [
    "db_collection.insert_many(data_sentiment140.to_dict('records'))"
   ]
  },
  {
   "cell_type": "code",
   "execution_count": 11,
   "metadata": {},
   "outputs": [
    {
     "name": "stdout",
     "output_type": "stream",
     "text": [
      "199989\n"
     ]
    },
    {
     "name": "stderr",
     "output_type": "stream",
     "text": [
      "/anaconda3/lib/python3.6/site-packages/ipykernel_launcher.py:1: DeprecationWarning: count is deprecated. Use estimated_document_count or count_documents instead. Please note that $where must be replaced by $expr, $near must be replaced by $geoWithin with $center, and $nearSphere must be replaced by $geoWithin with $centerSphere\n",
      "  \"\"\"Entry point for launching an IPython kernel.\n"
     ]
    }
   ],
   "source": [
    "print(db_collection.count())"
   ]
  },
  {
   "cell_type": "code",
   "execution_count": 12,
   "metadata": {},
   "outputs": [
    {
     "name": "stdout",
     "output_type": "stream",
     "text": [
      "{'_id': ObjectId('5c00008a25aafd0b15779a6c'), 'id_src': 8837, 'class': 2, 'text': \" brokeback mountain was terrible.\\n8838,0,Sentiment140,# @Catherine42 I wouldn't mind but I only had 1/2 a portion &amp; then left 1/2 the cream  just fruit for me then until my hols  x\\n8839,1,Sentiment140,# @DeliciousLunch ... dark chocolate cookies? oh you tease! I'm writing to day n dipping into twitter for company \\n8840,1,Sentiment140,# followfriday @mstuyvenberg @feb_unsw @hazelmail @beckescreet - all almost as cool as he-man and she-ra \\n8841,1,Sentiment140,# followfriday @presentsqueen because she talks sense \\n8842,1,Sentiment140,# New York is the most amazing city i've ever been to \\n8843,0,Sentiment140,# number times I bottomed out just in our driveway = 4... a 6.5 hour trip to mass.. I'm scared \\n8844,0,Sentiment140,# of NYC celebrity street vendors &gt; # of POA celebrities  http://streetvendor.org/media/pdfs/Side2.pdf\\n8845,1,Sentiment140,###### yay ##### thanks @matclayton ##### \\n8846,0,Sentiment140,#$%#$^#%@ I HATE THE DENTIST\", 'id': 'kaggle_train_8837', 'loc': [38.821101895410266, -77.06762464337092], 'lat': 38.821101895410266, 'lon': -77.06762464337092}\n",
      "{'_id': ObjectId('5c00008b25aafd0b1578a08a'), 'id_src': 75948, 'class': -2, 'text': '@Bulgarin Ð\\x94Ð°, Ð¢ÐµÑ\\x80Ð¼Ð¸Ð½Ð°Ñ\\x82Ð¾Ñ\\x80Ð° Ð¿Ð¾Ñ?Ð¼Ð¾Ñ\\x82Ñ\\x80ÐµÐ», Ð¿Ñ\\x80Ð¸ÐºÐ¾Ð»Ñ\\x8cÐ½Ñ\\x8bÐ¹, Ð² Ð»Ñ\\x83Ñ\\x87Ñ\\x88Ð¸Ñ\\x85 Ñ\\x82Ñ\\x80Ð°Ð´Ð¸Ñ\\x86Ð¸Ñ?Ñ\\x85 Ð¿ÐµÑ\\x80Ð²Ñ\\x8bÑ\\x85 2 Ñ\\x87Ð°Ñ?Ñ\\x82ÐµÐ¹. Ð\\x94Ð°Ð¶Ðµ Ð¨Ð²Ð°Ñ\\x80Ñ\\x86Ð° Ð¾Ñ\\x82Ð¼Ð¾Ð´ÐµÐ»Ð¸Ñ\\x80Ð¾Ð²Ð°Ð»Ð¸ ', 'id': 'kaggle_train_75948', 'loc': [41.4450250477423, 2.032554533946953], 'lat': 41.4450250477423, 'lon': 2.032554533946953}\n",
      "{'_id': ObjectId('5c00008b25aafd0b1578f43d'), 'id_src': 97375, 'class': 1, 'text': '@ctrld Ð¥Ð¼Ð¼... Ð¯ Ð±Ñ\\x8b Ñ\\x82Ð¾Ð¶Ðµ Ð½Ðµ Ð¾Ñ\\x82ÐºÐ°Ð·Ð°Ð»Ñ?Ñ? Ð¿Ð¾Ð¿Ñ\\x80Ð¾Ð±Ð¾Ð²Ð°Ñ\\x82Ñ\\x8c Ñ?ÐµÐ±Ñ? Ð² Ñ?ÐºÐ°Ð»Ð¾Ð»Ð°Ð·Ð°Ð½Ð¸Ð¸. Ð\\x92Ð¾Ñ\\x82 Ñ\\x82Ð¾Ð»Ñ\\x8cÐºÐ¾ Ñ\\x83 Ð½Ð°Ñ? Ð²Ð¾ Ð\\x9bÑ\\x8cÐ²Ð¾Ð²Ðµ Ð¿Ð¾Ð´Ð¾Ð±Ð½Ñ\\x8bÑ\\x85 Ñ?ÐµÐºÑ\\x86Ð¸Ð¹ Ð½Ð°Ð²ÐµÑ\\x80Ð½Ñ?ÐºÐ° Ð½ÐµÑ\\x82 ', 'id': 'kaggle_train_97375', 'loc': [41.451886006548264, 2.0327315372855055], 'lat': 41.451886006548264, 'lon': 2.0327315372855055}\n",
      "{'_id': ObjectId('5c00008b25aafd0b157835b8'), 'id_src': 48602, 'class': 1, 'text': '@Arwy Ð´Ð¸Ñ?Ðº Ð½Ðµ Ð¿Ñ\\x80Ð¾Ð²ÐµÑ\\x80Ñ?Ð», Ð½Ðµ Ð·Ð½Ð°Ñ\\x8e. Ð?Ð¾ Ð¿Ð¾ÐºÐ°Ð·Ð°Ð»Ð¾Ñ?Ñ\\x8c, Ñ\\x87Ñ\\x82Ð¾ backup Ð°Ð¹Ñ\\x84Ð¾Ð½Ð° Ð¾Ð¿Ñ?Ñ\\x82Ñ\\x8c Ð´ÐµÐ»Ð°ÐµÑ\\x82Ñ?Ñ? Ð´Ð¾Ð»Ð³Ð¾  Ð² Ð¿Ñ\\x80Ð¾Ñ\\x88Ð»Ð¾Ð¹ Ð²ÐµÑ\\x80Ñ?Ð¸Ð¸ Ð²Ñ\\x80Ð¾Ð´Ðµ Ð¿Ð¾Ð¿Ñ\\x80Ð°Ð²Ð¸Ð»Ð¸, Ð° Ñ?ÐµÐ¹Ñ\\x87Ð°Ñ? Ð¾Ð¿Ñ?Ñ\\x82Ñ\\x8c!', 'id': 'kaggle_train_48602', 'loc': [29.80953190162435, -95.09986321524649], 'lat': 29.80953190162435, 'lon': -95.09986321524649}\n",
      "{'_id': ObjectId('5c00008b25aafd0b15784a5c'), 'id_src': 53886, 'class': -1, 'text': '@aumpradya @BeYourCyber @jetboat @nuboat @9dap @godzeelus @mormmam à¸\\x82à¸\\xadà¸\\x9aà¸\\x84à¸¸à¸\\x93à¸\\x97à¸¸à¸?à¸\\x84à¸\\x99à¸¡à¸²à¸?à¸\\x84à¸£à¸±à¸\\x9a à¹?à¸«à¸¡à¹\\x80à¸\\x9eà¸·à¹\\x88à¸\\xadà¸\\x99à¹\\x86 à¹\\x83à¸\\x99 Twitter à¹\\x84à¸¡à¹\\x88à¹\\x80à¸\\x84à¸¢à¸\\x97à¸³à¹\\x83à¸«à¹\\x89à¸\\x9cà¸´à¸\\x94à¸«à¸§à¸±à¸\\x87à¹\\x80à¸¥à¸¢ ', 'id': 'kaggle_train_53886', 'loc': [33.65224147772364, -118.87257573844512], 'lat': 33.65224147772364, 'lon': -118.87257573844512}\n",
      "{'_id': ObjectId('5c00008a25aafd0b1577f9a2'), 'id_src': 33220, 'class': -1, 'text': '@ahohey  project design à¹\\x80à¸\\x94à¹\\x87à¸?à¸\\x9eà¸µà¹\\x88à¸\\x9bà¸µà¸\\x99à¸µà¹\\x89à¸¡à¸«à¹\\x89à¸\\xadà¸\\xadà¸?à¹?à¸\\x9aà¸\\x9aà¹\\x82à¸£à¸\\x87à¸\\x9eà¸¢à¸²à¸\\x9aà¸²à¸¥....à¸?à¸³à¸¥à¸±à¸\\x87à¸\\x97à¸³à¹\\x82à¸\\x9bà¸£à¹?à¸?à¸£à¸¡à¸\\xadà¸¢à¸¹à¹\\x88....à¹\\x80à¸\\x8aà¸´à¸?à¹\\x80à¸\\x95à¸¢à¸¡à¸² comment à¸\\x94à¸µà¸?à¸§à¹\\x88à¸² 5555    function à¹\\x80à¸¢à', 'id': 'kaggle_train_33220', 'loc': [33.66656635558013, -118.93465201855707], 'lat': 33.66656635558013, 'lon': -118.93465201855707}\n",
      "{'_id': ObjectId('5c00008a25aafd0b15782d0f'), 'id_src': 46385, 'class': 0, 'text': '@ApartHotel Ñ\\x82Ñ\\x8b Ñ?ÐºÐ¾Ñ\\x80ÐµÐµ Ð¿Ð¾Ñ\\x82ÐµÑ\\x80Ñ?ÐµÑ\\x88Ñ\\x8c Ð¸Ð»Ð¸ Ð¿Ð¾Ð¼ÐµÐ½Ñ?ÐµÑ\\x88Ñ\\x8c Ñ\\x82ÐµÐ»ÐµÑ\\x84Ð¾Ð½ Ð¿Ñ\\x80ÐµÐ¶Ð´Ðµ Ñ\\x87ÐµÐ¼ Ñ?Ð´Ð¾Ñ\\x85Ð½ÐµÑ\\x82 Ð°ÐºÐºÑ\\x83Ð¼Ñ\\x83Ð»Ñ?Ñ\\x82Ð¾Ñ\\x80  Ð\\x97Ð°Ñ\\x82Ð¾ Ð¿Ñ\\x80Ð¾Ñ\\x87Ð½Ð¾Ñ?Ñ\\x82Ñ\\x8c Ñ?Ð±Ð¾Ñ\\x80ÐºÐ¸ Ð±ÐµÑ?Ð¿Ð¾Ð´Ð¾Ð±Ð½Ð°Ñ? - ÐºÐ°Ðº Ð¼Ð¾Ð½Ð¾Ð»Ð¸Ñ\\x82!', 'id': 'kaggle_train_46385', 'loc': [43.757230415148626, -79.59488181337163], 'lat': 43.757230415148626, 'lon': -79.59488181337163}\n",
      "{'_id': ObjectId('5c00008b25aafd0b1578c5a0'), 'id_src': 85442, 'class': -2, 'text': '@ceggs Naw ! They just turned the burgers over ! Glad you fixed it though! ', 'id': 'kaggle_train_85442', 'loc': [34.32384852203179, -118.72588373819883], 'lat': 34.32384852203179, 'lon': -118.72588373819883}\n",
      "{'_id': ObjectId('5c00008b25aafd0b1578c5a2'), 'id_src': 85444, 'class': 0, 'text': '@ceggs what too?? - something with in ', 'id': 'kaggle_train_85444', 'loc': [42.27829832469255, -87.83258964893214], 'lat': 42.27829832469255, 'lon': -87.83258964893214}\n",
      "{'_id': ObjectId('5c00008b25aafd0b1578c5a3'), 'id_src': 85445, 'class': 2, 'text': \"@cehsja, aah, TD...that's too bad! \", 'id': 'kaggle_train_85445', 'loc': [42.16358623923736, -87.64685804600867], 'lat': 42.16358623923736, 'lon': -87.64685804600867}\n"
     ]
    }
   ],
   "source": [
    "for tweet in db_collection.find()[:10]:\n",
    "    print(tweet)"
   ]
  },
  {
   "cell_type": "code",
   "execution_count": 13,
   "metadata": {},
   "outputs": [
    {
     "name": "stdout",
     "output_type": "stream",
     "text": [
      "199989\n"
     ]
    },
    {
     "name": "stderr",
     "output_type": "stream",
     "text": [
      "/anaconda3/lib/python3.6/site-packages/ipykernel_launcher.py:1: DeprecationWarning: count is deprecated. Use estimated_document_count or count_documents instead. Please note that $where must be replaced by $expr, $near must be replaced by $geoWithin with $center, and $nearSphere must be replaced by $geoWithin with $centerSphere\n",
      "  \"\"\"Entry point for launching an IPython kernel.\n"
     ]
    }
   ],
   "source": [
    "print(db_collection.count())"
   ]
  },
  {
   "cell_type": "code",
   "execution_count": 14,
   "metadata": {},
   "outputs": [
    {
     "name": "stdout",
     "output_type": "stream",
     "text": [
      "DB connected successfully!!!\n"
     ]
    }
   ],
   "source": [
    "db_collection_tweets = db_connection(\"tweets\")"
   ]
  },
  {
   "cell_type": "code",
   "execution_count": 17,
   "metadata": {},
   "outputs": [
    {
     "ename": "KeyError",
     "evalue": "''",
     "output_type": "error",
     "traceback": [
      "\u001b[0;31m---------------------------------------------------------------------------\u001b[0m",
      "\u001b[0;31mKeyError\u001b[0m                                  Traceback (most recent call last)",
      "\u001b[0;32m<ipython-input-17-90b02ffefe93>\u001b[0m in \u001b[0;36m<module>\u001b[0;34m()\u001b[0m\n\u001b[1;32m      1\u001b[0m \u001b[0;32mfor\u001b[0m \u001b[0mtweet\u001b[0m \u001b[0;32min\u001b[0m \u001b[0mdb_collection_tweets\u001b[0m\u001b[0;34m.\u001b[0m\u001b[0mfind\u001b[0m\u001b[0;34m(\u001b[0m\u001b[0;34m)\u001b[0m\u001b[0;34m[\u001b[0m\u001b[0;34m:\u001b[0m\u001b[0;34m]\u001b[0m\u001b[0;34m:\u001b[0m\u001b[0;34m\u001b[0m\u001b[0m\n\u001b[1;32m      2\u001b[0m     \u001b[0;31m#print(tweet)\u001b[0m\u001b[0;34m\u001b[0m\u001b[0;34m\u001b[0m\u001b[0m\n\u001b[0;32m----> 3\u001b[0;31m     \u001b[0mprint\u001b[0m\u001b[0;34m(\u001b[0m\u001b[0mtweet\u001b[0m\u001b[0;34m[\u001b[0m\u001b[0;34m\"\"\u001b[0m\u001b[0;34m]\u001b[0m\u001b[0;34m)\u001b[0m\u001b[0;34m\u001b[0m\u001b[0m\n\u001b[0m",
      "\u001b[0;31mKeyError\u001b[0m: ''"
     ]
    }
   ],
   "source": [
    "for tweet in db_collection_tweets.find()[:]:\n",
    "    #print(tweet)\n",
    "    print(tweet[\"\"])"
   ]
  },
  {
   "cell_type": "code",
   "execution_count": 22,
   "metadata": {},
   "outputs": [
    {
     "data": {
      "text/plain": [
       "str"
      ]
     },
     "execution_count": 22,
     "metadata": {},
     "output_type": "execute_result"
    }
   ],
   "source": [
    "type(db_collection_tweets.find()[0][\"created_at\"])"
   ]
  },
  {
   "cell_type": "code",
   "execution_count": null,
   "metadata": {},
   "outputs": [],
   "source": []
  }
 ],
 "metadata": {
  "kernelspec": {
   "display_name": "Python 3",
   "language": "python",
   "name": "python3"
  },
  "language_info": {
   "codemirror_mode": {
    "name": "ipython",
    "version": 3
   },
   "file_extension": ".py",
   "mimetype": "text/x-python",
   "name": "python",
   "nbconvert_exporter": "python",
   "pygments_lexer": "ipython3",
   "version": "3.6.5"
  }
 },
 "nbformat": 4,
 "nbformat_minor": 2
}
