{
 "cells": [
  {
   "cell_type": "markdown",
   "metadata": {},
   "source": [
    "# Load datasets to mLab\n",
    "\n",
    "* https://www.kaggle.com/c/twitter-sentiment-analysis2/discussion\n",
    "* https://www.kaggle.com/kazanova/sentiment140"
   ]
  },
  {
   "cell_type": "code",
   "execution_count": 2,
   "metadata": {},
   "outputs": [],
   "source": [
    "import pymongo\n",
    "import pandas as pd\n",
    "import numpy as np\n",
    "import random"
   ]
  },
  {
   "cell_type": "code",
   "execution_count": 3,
   "metadata": {},
   "outputs": [],
   "source": [
    "def db_connection(collection_name): \n",
    "    # connect to mLab DB\n",
    "    try:\n",
    "        with open(\"../credentials/mlab_credentials.txt\", 'r', encoding='utf-8') as f:\n",
    "            [name,password,url,dbname]=f.read().splitlines()\n",
    "            db_conn = pymongo.MongoClient(\"mongodb://{}:{}@{}/{}\".format(name,password,url,dbname))\n",
    "            print (\"DB connected successfully!!!\")\n",
    "    except pymongo.errors.ConnectionFailure as e:\n",
    "        print (\"Could not connect to DB: %s\" % e) \n",
    "        \n",
    "    db = db_conn[dbname]\n",
    "    collection = db[collection_name]\n",
    "    \n",
    "    return collection\n",
    "\n",
    "\n",
    "def kaggle_id(id):\n",
    "    return \"kaggle_train_\" + str(id)\n",
    "\n",
    "\n",
    "def sentiment140_id(id):\n",
    "    return \"sentiment140_\" + str(id)\n",
    "\n",
    "\n",
    "def random_sentiment(sentiment):\n",
    "    sentiments_list = [-1,0,1]\n",
    "    return random.choice(sentiments_list)"
   ]
  },
  {
   "cell_type": "code",
   "execution_count": 4,
   "metadata": {},
   "outputs": [
    {
     "name": "stdout",
     "output_type": "stream",
     "text": [
      "DB connected successfully!!!\n"
     ]
    }
   ],
   "source": [
    "db_collection = db_connection(\"twitter_happiness_test\")"
   ]
  },
  {
   "cell_type": "code",
   "execution_count": 5,
   "metadata": {},
   "outputs": [
    {
     "name": "stdout",
     "output_type": "stream",
     "text": [
      "(99989, 4)\n"
     ]
    },
    {
     "data": {
      "text/html": [
       "<div>\n",
       "<style scoped>\n",
       "    .dataframe tbody tr th:only-of-type {\n",
       "        vertical-align: middle;\n",
       "    }\n",
       "\n",
       "    .dataframe tbody tr th {\n",
       "        vertical-align: top;\n",
       "    }\n",
       "\n",
       "    .dataframe thead th {\n",
       "        text-align: right;\n",
       "    }\n",
       "</style>\n",
       "<table border=\"1\" class=\"dataframe\">\n",
       "  <thead>\n",
       "    <tr style=\"text-align: right;\">\n",
       "      <th></th>\n",
       "      <th>id_src</th>\n",
       "      <th>sentiment</th>\n",
       "      <th>text</th>\n",
       "      <th>id</th>\n",
       "    </tr>\n",
       "  </thead>\n",
       "  <tbody>\n",
       "    <tr>\n",
       "      <th>0</th>\n",
       "      <td>1</td>\n",
       "      <td>1</td>\n",
       "      <td>is so sad for my APL frie...</td>\n",
       "      <td>kaggle_train_1</td>\n",
       "    </tr>\n",
       "    <tr>\n",
       "      <th>1</th>\n",
       "      <td>2</td>\n",
       "      <td>-1</td>\n",
       "      <td>I missed the New Moon trail...</td>\n",
       "      <td>kaggle_train_2</td>\n",
       "    </tr>\n",
       "    <tr>\n",
       "      <th>2</th>\n",
       "      <td>3</td>\n",
       "      <td>0</td>\n",
       "      <td>omg its already 7:30 :O</td>\n",
       "      <td>kaggle_train_3</td>\n",
       "    </tr>\n",
       "    <tr>\n",
       "      <th>3</th>\n",
       "      <td>4</td>\n",
       "      <td>-1</td>\n",
       "      <td>.. Omgaga. Im sooo  im gunna CRy. I'...</td>\n",
       "      <td>kaggle_train_4</td>\n",
       "    </tr>\n",
       "    <tr>\n",
       "      <th>4</th>\n",
       "      <td>5</td>\n",
       "      <td>0</td>\n",
       "      <td>i think mi bf is cheating on me!!!   ...</td>\n",
       "      <td>kaggle_train_5</td>\n",
       "    </tr>\n",
       "  </tbody>\n",
       "</table>\n",
       "</div>"
      ],
      "text/plain": [
       "   id_src  sentiment                                               text  \\\n",
       "0       1          1                       is so sad for my APL frie...   \n",
       "1       2         -1                     I missed the New Moon trail...   \n",
       "2       3          0                            omg its already 7:30 :O   \n",
       "3       4         -1            .. Omgaga. Im sooo  im gunna CRy. I'...   \n",
       "4       5          0           i think mi bf is cheating on me!!!   ...   \n",
       "\n",
       "               id  \n",
       "0  kaggle_train_1  \n",
       "1  kaggle_train_2  \n",
       "2  kaggle_train_3  \n",
       "3  kaggle_train_4  \n",
       "4  kaggle_train_5  "
      ]
     },
     "execution_count": 5,
     "metadata": {},
     "output_type": "execute_result"
    }
   ],
   "source": [
    "data_kaggle = pd.read_csv(\n",
    "    \"source/kaggle/train.csv\",\n",
    "    encoding='latin-1',\n",
    "    header=0,\n",
    "    names=[\"id_src\",\"sentiment\",\"text\"]\n",
    ")\n",
    "\n",
    "\n",
    "data_kaggle[\"id\"] = data_kaggle[\"id_src\"].apply(kaggle_id)\n",
    "data_kaggle[\"sentiment\"] = data_kaggle[\"sentiment\"].apply(random_sentiment)\n",
    "\n",
    "print(data_kaggle.shape)\n",
    "data_kaggle.head()"
   ]
  },
  {
   "cell_type": "code",
   "execution_count": 6,
   "metadata": {},
   "outputs": [
    {
     "data": {
      "text/plain": [
       "<pymongo.results.InsertManyResult at 0x11278abc8>"
      ]
     },
     "execution_count": 6,
     "metadata": {},
     "output_type": "execute_result"
    }
   ],
   "source": [
    "db_collection.insert_many(data_kaggle.to_dict('records'))"
   ]
  },
  {
   "cell_type": "code",
   "execution_count": 7,
   "metadata": {},
   "outputs": [
    {
     "name": "stdout",
     "output_type": "stream",
     "text": [
      "99989\n"
     ]
    },
    {
     "name": "stderr",
     "output_type": "stream",
     "text": [
      "/anaconda3/lib/python3.6/site-packages/ipykernel_launcher.py:1: DeprecationWarning: count is deprecated. Use estimated_document_count or count_documents instead. Please note that $where must be replaced by $expr, $near must be replaced by $geoWithin with $center, and $nearSphere must be replaced by $geoWithin with $centerSphere\n",
      "  \"\"\"Entry point for launching an IPython kernel.\n"
     ]
    }
   ],
   "source": [
    "print(db_collection.count())"
   ]
  },
  {
   "cell_type": "code",
   "execution_count": 8,
   "metadata": {},
   "outputs": [
    {
     "name": "stdout",
     "output_type": "stream",
     "text": [
      "(100000, 7)\n"
     ]
    },
    {
     "data": {
      "text/html": [
       "<div>\n",
       "<style scoped>\n",
       "    .dataframe tbody tr th:only-of-type {\n",
       "        vertical-align: middle;\n",
       "    }\n",
       "\n",
       "    .dataframe tbody tr th {\n",
       "        vertical-align: top;\n",
       "    }\n",
       "\n",
       "    .dataframe thead th {\n",
       "        text-align: right;\n",
       "    }\n",
       "</style>\n",
       "<table border=\"1\" class=\"dataframe\">\n",
       "  <thead>\n",
       "    <tr style=\"text-align: right;\">\n",
       "      <th></th>\n",
       "      <th>sentiment</th>\n",
       "      <th>id_src</th>\n",
       "      <th>date</th>\n",
       "      <th>flag</th>\n",
       "      <th>user</th>\n",
       "      <th>text</th>\n",
       "      <th>id</th>\n",
       "    </tr>\n",
       "  </thead>\n",
       "  <tbody>\n",
       "    <tr>\n",
       "      <th>0</th>\n",
       "      <td>1</td>\n",
       "      <td>1467810369</td>\n",
       "      <td>Mon Apr 06 22:19:45 PDT 2009</td>\n",
       "      <td>NO_QUERY</td>\n",
       "      <td>_TheSpecialOne_</td>\n",
       "      <td>@switchfoot http://twitpic.com/2y1zl - Awww, t...</td>\n",
       "      <td>kaggle_train_1467810369</td>\n",
       "    </tr>\n",
       "    <tr>\n",
       "      <th>1</th>\n",
       "      <td>1</td>\n",
       "      <td>1467810672</td>\n",
       "      <td>Mon Apr 06 22:19:49 PDT 2009</td>\n",
       "      <td>NO_QUERY</td>\n",
       "      <td>scotthamilton</td>\n",
       "      <td>is upset that he can't update his Facebook by ...</td>\n",
       "      <td>kaggle_train_1467810672</td>\n",
       "    </tr>\n",
       "    <tr>\n",
       "      <th>2</th>\n",
       "      <td>-1</td>\n",
       "      <td>1467810917</td>\n",
       "      <td>Mon Apr 06 22:19:53 PDT 2009</td>\n",
       "      <td>NO_QUERY</td>\n",
       "      <td>mattycus</td>\n",
       "      <td>@Kenichan I dived many times for the ball. Man...</td>\n",
       "      <td>kaggle_train_1467810917</td>\n",
       "    </tr>\n",
       "    <tr>\n",
       "      <th>3</th>\n",
       "      <td>-1</td>\n",
       "      <td>1467811184</td>\n",
       "      <td>Mon Apr 06 22:19:57 PDT 2009</td>\n",
       "      <td>NO_QUERY</td>\n",
       "      <td>ElleCTF</td>\n",
       "      <td>my whole body feels itchy and like its on fire</td>\n",
       "      <td>kaggle_train_1467811184</td>\n",
       "    </tr>\n",
       "    <tr>\n",
       "      <th>4</th>\n",
       "      <td>-1</td>\n",
       "      <td>1467811193</td>\n",
       "      <td>Mon Apr 06 22:19:57 PDT 2009</td>\n",
       "      <td>NO_QUERY</td>\n",
       "      <td>Karoli</td>\n",
       "      <td>@nationwideclass no, it's not behaving at all....</td>\n",
       "      <td>kaggle_train_1467811193</td>\n",
       "    </tr>\n",
       "  </tbody>\n",
       "</table>\n",
       "</div>"
      ],
      "text/plain": [
       "   sentiment      id_src                          date      flag  \\\n",
       "0          1  1467810369  Mon Apr 06 22:19:45 PDT 2009  NO_QUERY   \n",
       "1          1  1467810672  Mon Apr 06 22:19:49 PDT 2009  NO_QUERY   \n",
       "2         -1  1467810917  Mon Apr 06 22:19:53 PDT 2009  NO_QUERY   \n",
       "3         -1  1467811184  Mon Apr 06 22:19:57 PDT 2009  NO_QUERY   \n",
       "4         -1  1467811193  Mon Apr 06 22:19:57 PDT 2009  NO_QUERY   \n",
       "\n",
       "              user                                               text  \\\n",
       "0  _TheSpecialOne_  @switchfoot http://twitpic.com/2y1zl - Awww, t...   \n",
       "1    scotthamilton  is upset that he can't update his Facebook by ...   \n",
       "2         mattycus  @Kenichan I dived many times for the ball. Man...   \n",
       "3          ElleCTF    my whole body feels itchy and like its on fire    \n",
       "4           Karoli  @nationwideclass no, it's not behaving at all....   \n",
       "\n",
       "                        id  \n",
       "0  kaggle_train_1467810369  \n",
       "1  kaggle_train_1467810672  \n",
       "2  kaggle_train_1467810917  \n",
       "3  kaggle_train_1467811184  \n",
       "4  kaggle_train_1467811193  "
      ]
     },
     "execution_count": 8,
     "metadata": {},
     "output_type": "execute_result"
    }
   ],
   "source": [
    "data_sentiment140 = pd.read_csv(\n",
    "    \"source/sentiment140/training.1600000.processed.noemoticon.csv\",\n",
    "    encoding='latin-1',\n",
    "    header=None,\n",
    "    names=[\"sentiment\",\"id_src\",\"date\",\"flag\",\"user\",\"text\"]\n",
    ")\n",
    "\n",
    "data_sentiment140[\"id\"] = data_sentiment140[\"id_src\"].apply(kaggle_id)\n",
    "data_sentiment140[\"sentiment\"] = data_sentiment140[\"sentiment\"].apply(random_sentiment)\n",
    "\n",
    "data_sentiment140 = data_sentiment140.head(100000).copy()\n",
    "print(data_sentiment140.shape)\n",
    "data_sentiment140.head()"
   ]
  },
  {
   "cell_type": "code",
   "execution_count": 9,
   "metadata": {},
   "outputs": [
    {
     "data": {
      "text/plain": [
       "<pymongo.results.InsertManyResult at 0x123cabb88>"
      ]
     },
     "execution_count": 9,
     "metadata": {},
     "output_type": "execute_result"
    }
   ],
   "source": [
    "db_collection.insert_many(data_sentiment140.to_dict('records'))"
   ]
  },
  {
   "cell_type": "code",
   "execution_count": 10,
   "metadata": {},
   "outputs": [
    {
     "name": "stdout",
     "output_type": "stream",
     "text": [
      "199989\n"
     ]
    },
    {
     "name": "stderr",
     "output_type": "stream",
     "text": [
      "/anaconda3/lib/python3.6/site-packages/ipykernel_launcher.py:1: DeprecationWarning: count is deprecated. Use estimated_document_count or count_documents instead. Please note that $where must be replaced by $expr, $near must be replaced by $geoWithin with $center, and $nearSphere must be replaced by $geoWithin with $centerSphere\n",
      "  \"\"\"Entry point for launching an IPython kernel.\n"
     ]
    }
   ],
   "source": [
    "print(db_collection.count())"
   ]
  },
  {
   "cell_type": "code",
   "execution_count": 11,
   "metadata": {},
   "outputs": [
    {
     "name": "stdout",
     "output_type": "stream",
     "text": [
      "{'_id': ObjectId('5be490e3523ec416b1238831'), 'id_src': 1, 'sentiment': 1, 'text': '                     is so sad for my APL friend.............', 'id': 'kaggle_train_1'}\n",
      "{'_id': ObjectId('5be490e3523ec416b1238832'), 'id_src': 2, 'sentiment': -1, 'text': '                   I missed the New Moon trailer...', 'id': 'kaggle_train_2'}\n",
      "{'_id': ObjectId('5be490e3523ec416b1238833'), 'id_src': 3, 'sentiment': 0, 'text': '              omg its already 7:30 :O', 'id': 'kaggle_train_3'}\n",
      "{'_id': ObjectId('5be490e3523ec416b1238834'), 'id_src': 4, 'sentiment': -1, 'text': \"          .. Omgaga. Im sooo  im gunna CRy. I've been at this dentist since 11.. I was suposed 2 just get a crown put on (30mins)...\", 'id': 'kaggle_train_4'}\n",
      "{'_id': ObjectId('5be490e3523ec416b1238835'), 'id_src': 5, 'sentiment': 0, 'text': '         i think mi bf is cheating on me!!!       T_T', 'id': 'kaggle_train_5'}\n",
      "{'_id': ObjectId('5be490e3523ec416b1238836'), 'id_src': 6, 'sentiment': -1, 'text': '         or i just worry too much?        ', 'id': 'kaggle_train_6'}\n",
      "{'_id': ObjectId('5be490e3523ec416b1238837'), 'id_src': 7, 'sentiment': 1, 'text': '       Juuuuuuuuuuuuuuuuussssst Chillin!!', 'id': 'kaggle_train_7'}\n",
      "{'_id': ObjectId('5be490e3523ec416b1238838'), 'id_src': 8, 'sentiment': 0, 'text': '       Sunny Again        Work Tomorrow  :-|       TV Tonight', 'id': 'kaggle_train_8'}\n",
      "{'_id': ObjectId('5be490e3523ec416b1238839'), 'id_src': 9, 'sentiment': 1, 'text': '      handed in my uniform today . i miss you already', 'id': 'kaggle_train_9'}\n",
      "{'_id': ObjectId('5be490e3523ec416b123883a'), 'id_src': 10, 'sentiment': 1, 'text': '      hmmmm.... i wonder how she my number @-)', 'id': 'kaggle_train_10'}\n"
     ]
    }
   ],
   "source": [
    "for tweet in db_collection.find()[:10]:\n",
    "    print(tweet)"
   ]
  },
  {
   "cell_type": "code",
   "execution_count": null,
   "metadata": {},
   "outputs": [],
   "source": []
  }
 ],
 "metadata": {
  "kernelspec": {
   "display_name": "Python 3",
   "language": "python",
   "name": "python3"
  },
  "language_info": {
   "codemirror_mode": {
    "name": "ipython",
    "version": 3
   },
   "file_extension": ".py",
   "mimetype": "text/x-python",
   "name": "python",
   "nbconvert_exporter": "python",
   "pygments_lexer": "ipython3",
   "version": "3.6.5"
  }
 },
 "nbformat": 4,
 "nbformat_minor": 2
}
