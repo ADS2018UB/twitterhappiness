{
 "cells": [
  {
   "cell_type": "markdown",
   "metadata": {},
   "source": [
    "# Update location fields\n"
   ]
  },
  {
   "cell_type": "code",
   "execution_count": 3,
   "metadata": {},
   "outputs": [],
   "source": [
    "import pymongo\n",
    "import pandas as pd\n",
    "import numpy as np\n",
    "import random"
   ]
  },
  {
   "cell_type": "code",
   "execution_count": 4,
   "metadata": {},
   "outputs": [],
   "source": [
    "def db_connection(collection_name): \n",
    "    # connect to mLab DB\n",
    "    try:\n",
    "        with open(\"../credentials/mlab_credentials.txt\", 'r', encoding='utf-8') as f:\n",
    "            [name,password,url,dbname]=f.read().splitlines()\n",
    "            db_conn = pymongo.MongoClient(\"mongodb://{}:{}@{}/{}\".format(name,password,url,dbname))\n",
    "            print (\"DB connected successfully!!!\")\n",
    "    except pymongo.errors.ConnectionFailure as e:\n",
    "        print (\"Could not connect to DB: %s\" % e) \n",
    "        \n",
    "    db = db_conn[dbname]\n",
    "    collection = db[collection_name]\n",
    "    \n",
    "    return collection"
   ]
  },
  {
   "cell_type": "code",
   "execution_count": 16,
   "metadata": {},
   "outputs": [
    {
     "name": "stdout",
     "output_type": "stream",
     "text": [
      "DB connected successfully!!!\n"
     ]
    },
    {
     "name": "stderr",
     "output_type": "stream",
     "text": [
      "/anaconda3/lib/python3.6/site-packages/ipykernel_launcher.py:2: DeprecationWarning: count is deprecated. Use estimated_document_count or count_documents instead. Please note that $where must be replaced by $expr, $near must be replaced by $geoWithin with $center, and $nearSphere must be replaced by $geoWithin with $centerSphere\n",
      "  \n"
     ]
    },
    {
     "name": "stdout",
     "output_type": "stream",
     "text": [
      "6153\n"
     ]
    }
   ],
   "source": [
    "db_tweets = db_connection(\"tweets\")\n",
    "print(db_tweets.count())"
   ]
  },
  {
   "cell_type": "code",
   "execution_count": 13,
   "metadata": {},
   "outputs": [
    {
     "name": "stdout",
     "output_type": "stream",
     "text": [
      "DB connected successfully!!!\n"
     ]
    },
    {
     "name": "stderr",
     "output_type": "stream",
     "text": [
      "/anaconda3/lib/python3.6/site-packages/ipykernel_launcher.py:2: DeprecationWarning: count is deprecated. Use estimated_document_count or count_documents instead. Please note that $where must be replaced by $expr, $near must be replaced by $geoWithin with $center, and $nearSphere must be replaced by $geoWithin with $centerSphere\n",
      "  \n"
     ]
    },
    {
     "name": "stdout",
     "output_type": "stream",
     "text": [
      "2618\n"
     ]
    }
   ],
   "source": [
    "db_tweets_bckp = db_connection(\"tweets_bckp_181205\")\n",
    "print(db_tweets_bckp.count())"
   ]
  },
  {
   "cell_type": "code",
   "execution_count": 18,
   "metadata": {},
   "outputs": [
    {
     "name": "stdout",
     "output_type": "stream",
     "text": [
      "2618  documents deleted\n"
     ]
    }
   ],
   "source": [
    "# uncomment to delete\n",
    "#result = db_tweets_bckp.delete_many({})\n",
    "#print(result.deleted_count, \" documents deleted\")"
   ]
  },
  {
   "cell_type": "code",
   "execution_count": 19,
   "metadata": {},
   "outputs": [
    {
     "name": "stdout",
     "output_type": "stream",
     "text": [
      "0\n"
     ]
    },
    {
     "name": "stderr",
     "output_type": "stream",
     "text": [
      "/anaconda3/lib/python3.6/site-packages/ipykernel_launcher.py:1: DeprecationWarning: count is deprecated. Use estimated_document_count or count_documents instead. Please note that $where must be replaced by $expr, $near must be replaced by $geoWithin with $center, and $nearSphere must be replaced by $geoWithin with $centerSphere\n",
      "  \"\"\"Entry point for launching an IPython kernel.\n"
     ]
    }
   ],
   "source": [
    "print(db_tweets_bckp.count())"
   ]
  },
  {
   "cell_type": "code",
   "execution_count": 20,
   "metadata": {},
   "outputs": [],
   "source": [
    "tweets_list = [tweet for tweet in db_tweets.find()]"
   ]
  },
  {
   "cell_type": "code",
   "execution_count": 21,
   "metadata": {},
   "outputs": [
    {
     "data": {
      "text/plain": [
       "6153"
      ]
     },
     "execution_count": 21,
     "metadata": {},
     "output_type": "execute_result"
    }
   ],
   "source": [
    "len(tweets_list)"
   ]
  },
  {
   "cell_type": "code",
   "execution_count": 22,
   "metadata": {},
   "outputs": [
    {
     "name": "stdout",
     "output_type": "stream",
     "text": [
      "6153\n"
     ]
    },
    {
     "name": "stderr",
     "output_type": "stream",
     "text": [
      "/anaconda3/lib/python3.6/site-packages/ipykernel_launcher.py:2: DeprecationWarning: count is deprecated. Use estimated_document_count or count_documents instead. Please note that $where must be replaced by $expr, $near must be replaced by $geoWithin with $center, and $nearSphere must be replaced by $geoWithin with $centerSphere\n",
      "  \n"
     ]
    }
   ],
   "source": [
    "db_tweets_bckp.insert_many(tweets_list)\n",
    "print(db_tweets_bckp.count())"
   ]
  },
  {
   "cell_type": "code",
   "execution_count": 24,
   "metadata": {},
   "outputs": [],
   "source": [
    "for tweet in tweets_list:\n",
    "    if tweet[\"coordinates\"] is not None and tweet[\"coordinates\"][\"type\"] == \"Point\":\n",
    "        tweet['lat'] = tweet[\"coordinates\"][\"coordinates\"][1]\n",
    "        tweet['lon'] = tweet[\"coordinates\"][\"coordinates\"][0]\n",
    "    else:\n",
    "        tweet['lat'] = None\n",
    "        tweet['lon'] = None\n",
    "    db_tweets.replace_one({\"id\":tweet[\"id\"]}, tweet, upsert = True)"
   ]
  },
  {
   "cell_type": "code",
   "execution_count": 25,
   "metadata": {},
   "outputs": [],
   "source": [
    "location_query = {\n",
    "    \"lat\": {\n",
    "        \"$ne\": None\n",
    "    }\n",
    "}"
   ]
  },
  {
   "cell_type": "code",
   "execution_count": 27,
   "metadata": {},
   "outputs": [
    {
     "name": "stdout",
     "output_type": "stream",
     "text": [
      "{'type': 'Point', 'coordinates': [-87.71474, 41.96196]} 41.96196 -87.71474\n",
      "{'type': 'Point', 'coordinates': [-73.999952, 40.754375]} 40.754375 -73.999952\n",
      "{'type': 'Point', 'coordinates': [-73.9819456, 40.7594726]} 40.7594726 -73.9819456\n",
      "{'type': 'Point', 'coordinates': [-73.99453567, 40.7413536]} 40.7413536 -73.99453567\n",
      "{'type': 'Point', 'coordinates': [-74.0064, 40.7142]} 40.7142 -74.0064\n",
      "{'type': 'Point', 'coordinates': [-74.0059413, 40.7127837]} 40.7127837 -74.0059413\n",
      "{'type': 'Point', 'coordinates': [-77.0367, 38.8951]} 38.8951 -77.0367\n",
      "{'type': 'Point', 'coordinates': [-76.9716034, 38.91988017]} 38.91988017 -76.9716034\n",
      "{'type': 'Point', 'coordinates': [-76.9716034, 38.91988017]} 38.91988017 -76.9716034\n",
      "{'type': 'Point', 'coordinates': [-76.9912, 38.933]} 38.933 -76.9912\n"
     ]
    }
   ],
   "source": [
    "for tweet in db_tweets.find(location_query)[:10]:\n",
    "    print(tweet[\"coordinates\"],tweet['lat'],tweet['lon'])"
   ]
  },
  {
   "cell_type": "code",
   "execution_count": null,
   "metadata": {},
   "outputs": [],
   "source": []
  }
 ],
 "metadata": {
  "kernelspec": {
   "display_name": "Python 3",
   "language": "python",
   "name": "python3"
  },
  "language_info": {
   "codemirror_mode": {
    "name": "ipython",
    "version": 3
   },
   "file_extension": ".py",
   "mimetype": "text/x-python",
   "name": "python",
   "nbconvert_exporter": "python",
   "pygments_lexer": "ipython3",
   "version": "3.6.5"
  }
 },
 "nbformat": 4,
 "nbformat_minor": 2
}
