{
 "cells": [
  {
   "cell_type": "markdown",
   "metadata": {},
   "source": [
    "# Update location fields\n"
   ]
  },
  {
   "cell_type": "code",
   "execution_count": 6,
   "metadata": {},
   "outputs": [],
   "source": [
    "import pymongo\n",
    "import pandas as pd\n",
    "import numpy as np\n",
    "import random\n",
    "import datetime"
   ]
  },
  {
   "cell_type": "code",
   "execution_count": 7,
   "metadata": {},
   "outputs": [],
   "source": [
    "def db_connection(collection_name): \n",
    "    # connect to mLab DB\n",
    "    try:\n",
    "        with open(\"../credentials/mlab_credentials.txt\", 'r', encoding='utf-8') as f:\n",
    "            [name,password,url,dbname]=f.read().splitlines()\n",
    "            db_conn = pymongo.MongoClient(\"mongodb://{}:{}@{}/{}\".format(name,password,url,dbname))\n",
    "            print (\"DB connected successfully!!!\")\n",
    "    except pymongo.errors.ConnectionFailure as e:\n",
    "        print (\"Could not connect to DB: %s\" % e) \n",
    "        \n",
    "    db = db_conn[dbname]\n",
    "    collection = db[collection_name]\n",
    "    \n",
    "    return collection"
   ]
  },
  {
   "cell_type": "code",
   "execution_count": 8,
   "metadata": {},
   "outputs": [
    {
     "name": "stdout",
     "output_type": "stream",
     "text": [
      "DB connected successfully!!!\n",
      "DB connected successfully!!!\n"
     ]
    }
   ],
   "source": [
    "db_tweets = db_connection(\"tweets\")\n",
    "db_tweets_bckp = db_connection(\"tweets_bckp_181205\")"
   ]
  },
  {
   "cell_type": "code",
   "execution_count": 4,
   "metadata": {},
   "outputs": [
    {
     "name": "stderr",
     "output_type": "stream",
     "text": [
      "/anaconda3/lib/python3.6/site-packages/ipykernel_launcher.py:1: DeprecationWarning: count is deprecated. Use estimated_document_count or count_documents instead. Please note that $where must be replaced by $expr, $near must be replaced by $geoWithin with $center, and $nearSphere must be replaced by $geoWithin with $centerSphere\n",
      "  \"\"\"Entry point for launching an IPython kernel.\n"
     ]
    },
    {
     "name": "stdout",
     "output_type": "stream",
     "text": [
      "Tweets in DB: 67636\n"
     ]
    }
   ],
   "source": [
    "print(\"Tweets in DB:\", db_tweets.count())"
   ]
  },
  {
   "cell_type": "code",
   "execution_count": 19,
   "metadata": {},
   "outputs": [
    {
     "name": "stderr",
     "output_type": "stream",
     "text": [
      "/anaconda3/lib/python3.6/site-packages/ipykernel_launcher.py:1: DeprecationWarning: count is deprecated. Use estimated_document_count or count_documents instead. Please note that $where must be replaced by $expr, $near must be replaced by $geoWithin with $center, and $nearSphere must be replaced by $geoWithin with $centerSphere\n",
      "  \"\"\"Entry point for launching an IPython kernel.\n"
     ]
    },
    {
     "name": "stdout",
     "output_type": "stream",
     "text": [
      "Tweets in Backup DB: 9665\n"
     ]
    }
   ],
   "source": [
    "print(\"Tweets in Backup DB:\", db_tweets_bckp.count())"
   ]
  },
  {
   "cell_type": "code",
   "execution_count": 9,
   "metadata": {},
   "outputs": [
    {
     "name": "stdout",
     "output_type": "stream",
     "text": [
      "6153  documents deleted\n"
     ]
    }
   ],
   "source": [
    "# uncomment to delete\n",
    "result = db_tweets_bckp.delete_many({})\n",
    "print(result.deleted_count, \" documents deleted\")"
   ]
  },
  {
   "cell_type": "code",
   "execution_count": 15,
   "metadata": {},
   "outputs": [
    {
     "name": "stdout",
     "output_type": "stream",
     "text": [
      "9665\n"
     ]
    },
    {
     "name": "stderr",
     "output_type": "stream",
     "text": [
      "/anaconda3/lib/python3.6/site-packages/ipykernel_launcher.py:1: DeprecationWarning: count is deprecated. Use estimated_document_count or count_documents instead. Please note that $where must be replaced by $expr, $near must be replaced by $geoWithin with $center, and $nearSphere must be replaced by $geoWithin with $centerSphere\n",
      "  \"\"\"Entry point for launching an IPython kernel.\n"
     ]
    }
   ],
   "source": [
    "print(db_tweets_bckp.count())"
   ]
  },
  {
   "cell_type": "code",
   "execution_count": 12,
   "metadata": {},
   "outputs": [
    {
     "data": {
      "text/plain": [
       "100"
      ]
     },
     "execution_count": 12,
     "metadata": {},
     "output_type": "execute_result"
    }
   ],
   "source": [
    "tweets_list = [tweet for tweet in db_tweets.find()[:100]]\n",
    "len(tweets_list)"
   ]
  },
  {
   "cell_type": "code",
   "execution_count": 12,
   "metadata": {},
   "outputs": [
    {
     "name": "stdout",
     "output_type": "stream",
     "text": [
      "9665\n"
     ]
    },
    {
     "name": "stderr",
     "output_type": "stream",
     "text": [
      "/anaconda3/lib/python3.6/site-packages/ipykernel_launcher.py:2: DeprecationWarning: count is deprecated. Use estimated_document_count or count_documents instead. Please note that $where must be replaced by $expr, $near must be replaced by $geoWithin with $center, and $nearSphere must be replaced by $geoWithin with $centerSphere\n",
      "  \n"
     ]
    }
   ],
   "source": [
    "db_tweets_bckp.insert_many(tweets_list)\n",
    "print(db_tweets_bckp.count())"
   ]
  },
  {
   "cell_type": "code",
   "execution_count": 27,
   "metadata": {},
   "outputs": [],
   "source": [
    "for tweet in tweets_list:\n",
    "    \n",
    "    # Format the datetime field\n",
    "    date_str = tweet['created_at']\n",
    "    date_obj = datetime.datetime.strptime(date_str, '%a %b %d %H:%M:%S %z %Y')\n",
    "    tweet['datetime'] = datetime.datetime.combine(date_obj.date(), date_obj.time())\n",
    "        \n",
    "    if tweet[\"coordinates\"] is not None and tweet[\"coordinates\"][\"type\"] == \"Point\":\n",
    "        tweet['lat'] = tweet[\"coordinates\"][\"coordinates\"][1]\n",
    "        tweet['lon'] = tweet[\"coordinates\"][\"coordinates\"][0]\n",
    "    else:\n",
    "        tweet['lat'] = None\n",
    "        tweet['lon'] = None\n",
    "    \n",
    "    db_tweets.replace_one({\"id\":tweet[\"id\"]}, tweet, upsert = True)\n",
    "    #print(tweet)"
   ]
  },
  {
   "cell_type": "code",
   "execution_count": 10,
   "metadata": {},
   "outputs": [],
   "source": [
    "location_query = {\n",
    "    \"lat\": {\n",
    "        #\"$ne\": None\n",
    "        \"$exists\": True\n",
    "    }\n",
    "}\n",
    "datetime_query = {\n",
    "    \"datetime\": {\n",
    "        \"$exists\": True\n",
    "    }\n",
    "}"
   ]
  },
  {
   "cell_type": "code",
   "execution_count": 11,
   "metadata": {},
   "outputs": [
    {
     "name": "stdout",
     "output_type": "stream",
     "text": [
      "None None None\n",
      "None None None\n",
      "None None None\n",
      "None None None\n",
      "None None None\n",
      "None None None\n",
      "None None None\n",
      "None None None\n",
      "None None None\n",
      "None None None\n"
     ]
    }
   ],
   "source": [
    "for tweet in db_tweets.find(location_query)[:10]:\n",
    "    print(tweet[\"coordinates\"],tweet['lat'],tweet['lon'])"
   ]
  },
  {
   "cell_type": "code",
   "execution_count": 36,
   "metadata": {},
   "outputs": [
    {
     "name": "stderr",
     "output_type": "stream",
     "text": [
      "/anaconda3/lib/python3.6/site-packages/ipykernel_launcher.py:1: DeprecationWarning: count is deprecated. Use estimated_document_count or count_documents instead. Please note that $where must be replaced by $expr, $near must be replaced by $geoWithin with $center, and $nearSphere must be replaced by $geoWithin with $centerSphere\n",
      "  \"\"\"Entry point for launching an IPython kernel.\n",
      "/anaconda3/lib/python3.6/site-packages/ipykernel_launcher.py:2: DeprecationWarning: count is deprecated. Use estimated_document_count or count_documents instead. Please note that $where must be replaced by $expr, $near must be replaced by $geoWithin with $center, and $nearSphere must be replaced by $geoWithin with $centerSphere\n",
      "  \n",
      "/anaconda3/lib/python3.6/site-packages/ipykernel_launcher.py:3: DeprecationWarning: count is deprecated. Use estimated_document_count or count_documents instead. Please note that $where must be replaced by $expr, $near must be replaced by $geoWithin with $center, and $nearSphere must be replaced by $geoWithin with $centerSphere\n",
      "  This is separate from the ipykernel package so we can avoid doing imports until\n"
     ]
    },
    {
     "name": "stdout",
     "output_type": "stream",
     "text": [
      "Tweets in DB: 10544\n",
      "Tweets in DB (location): 10544\n",
      "Tweets in DB (datetime): 10544\n"
     ]
    }
   ],
   "source": [
    "print(\"Tweets in DB:\", db_tweets.count())\n",
    "print(\"Tweets in DB (location):\", db_tweets.count(location_query))\n",
    "print(\"Tweets in DB (datetime):\", db_tweets.count(datetime_query))"
   ]
  },
  {
   "cell_type": "code",
   "execution_count": 27,
   "metadata": {},
   "outputs": [
    {
     "data": {
      "text/plain": [
       "{'_id': ObjectId('5c004831523ec489f07f4e34'),\n",
       " 'created_at': 'Thu Nov 29 20:09:58 +0000 2018',\n",
       " 'id': 1068235643652722688,\n",
       " 'id_str': '1068235643652722688',\n",
       " 'text': 'Report: MMA Pioneer Cal Worsham Dead At 55 https://t.co/2qaw6OEIkO #CalWorsham #MMA',\n",
       " 'truncated': False,\n",
       " 'entities': {'hashtags': [{'text': 'CalWorsham', 'indices': [67, 78]},\n",
       "   {'text': 'MMA', 'indices': [79, 83]}],\n",
       "  'symbols': [],\n",
       "  'user_mentions': [],\n",
       "  'urls': [{'url': 'https://t.co/2qaw6OEIkO',\n",
       "    'expanded_url': 'http://po.st/LhS8wh',\n",
       "    'display_url': 'po.st/LhS8wh',\n",
       "    'indices': [43, 66]}]},\n",
       " 'metadata': {'iso_language_code': 'en', 'result_type': 'recent'},\n",
       " 'source': '<a href=\"http://twitter.com\" rel=\"nofollow\">Twitter Web Client</a>',\n",
       " 'in_reply_to_status_id': None,\n",
       " 'in_reply_to_status_id_str': None,\n",
       " 'in_reply_to_user_id': None,\n",
       " 'in_reply_to_user_id_str': None,\n",
       " 'in_reply_to_screen_name': None,\n",
       " 'user': {'id': 244274941,\n",
       "  'id_str': '244274941',\n",
       "  'name': '♛Fit4aKingMMA♛',\n",
       "  'screen_name': 'Fit4aKingMMA',\n",
       "  'location': 'Chicago, Illinois',\n",
       "  'description': 'MMA News, Results, Stats, Events, Pics, Videos, etc.....👑👑👑',\n",
       "  'url': 'https://t.co/FC0znEHx72',\n",
       "  'entities': {'url': {'urls': [{'url': 'https://t.co/FC0znEHx72',\n",
       "      'expanded_url': 'https://www.facebook.com/Fit4aKingMMA',\n",
       "      'display_url': 'facebook.com/Fit4aKingMMA',\n",
       "      'indices': [0, 23]}]},\n",
       "   'description': {'urls': []}},\n",
       "  'protected': False,\n",
       "  'followers_count': 96,\n",
       "  'friends_count': 0,\n",
       "  'listed_count': 23,\n",
       "  'created_at': 'Fri Jan 28 23:14:32 +0000 2011',\n",
       "  'favourites_count': 0,\n",
       "  'utc_offset': None,\n",
       "  'time_zone': None,\n",
       "  'geo_enabled': True,\n",
       "  'verified': False,\n",
       "  'statuses_count': 10883,\n",
       "  'lang': 'en',\n",
       "  'contributors_enabled': False,\n",
       "  'is_translator': False,\n",
       "  'is_translation_enabled': True,\n",
       "  'profile_background_color': 'FCF7F7',\n",
       "  'profile_background_image_url': 'http://abs.twimg.com/images/themes/theme1/bg.png',\n",
       "  'profile_background_image_url_https': 'https://abs.twimg.com/images/themes/theme1/bg.png',\n",
       "  'profile_background_tile': True,\n",
       "  'profile_image_url': 'http://pbs.twimg.com/profile_images/1991059353/PN141-G_nnnnnnnnn_normal.jpg',\n",
       "  'profile_image_url_https': 'https://pbs.twimg.com/profile_images/1991059353/PN141-G_nnnnnnnnn_normal.jpg',\n",
       "  'profile_banner_url': 'https://pbs.twimg.com/profile_banners/244274941/1484714565',\n",
       "  'profile_link_color': 'B80912',\n",
       "  'profile_sidebar_border_color': '000000',\n",
       "  'profile_sidebar_fill_color': 'FFFFFF',\n",
       "  'profile_text_color': '080606',\n",
       "  'profile_use_background_image': True,\n",
       "  'has_extended_profile': False,\n",
       "  'default_profile': False,\n",
       "  'default_profile_image': False,\n",
       "  'following': False,\n",
       "  'follow_request_sent': False,\n",
       "  'notifications': False,\n",
       "  'translator_type': 'none'},\n",
       " 'geo': None,\n",
       " 'coordinates': None,\n",
       " 'place': {'id': '1d9a5370a355ab0c',\n",
       "  'url': 'https://api.twitter.com/1.1/geo/id/1d9a5370a355ab0c.json',\n",
       "  'place_type': 'city',\n",
       "  'name': 'Chicago',\n",
       "  'full_name': 'Chicago, IL',\n",
       "  'country_code': 'US',\n",
       "  'country': 'United States',\n",
       "  'contained_within': [],\n",
       "  'bounding_box': {'type': 'Polygon',\n",
       "   'coordinates': [[[-87.940033, 41.644102],\n",
       "     [-87.523993, 41.644102],\n",
       "     [-87.523993, 42.0230669],\n",
       "     [-87.940033, 42.0230669]]]},\n",
       "  'attributes': {}},\n",
       " 'contributors': None,\n",
       " 'is_quote_status': False,\n",
       " 'retweet_count': 0,\n",
       " 'favorite_count': 0,\n",
       " 'favorited': False,\n",
       " 'retweeted': False,\n",
       " 'possibly_sensitive': False,\n",
       " 'lang': 'en',\n",
       " 'sentiment': -0.2,\n",
       " 'class': -1,\n",
       " 'lat': None,\n",
       " 'lon': None,\n",
       " 'datetime': datetime.datetime(2018, 11, 29, 20, 9, 58)}"
      ]
     },
     "execution_count": 27,
     "metadata": {},
     "output_type": "execute_result"
    }
   ],
   "source": [
    "tweets_list[14]"
   ]
  },
  {
   "cell_type": "code",
   "execution_count": 29,
   "metadata": {},
   "outputs": [],
   "source": [
    "hashtag_query = { \n",
    "    \"entities\": { \n",
    "        \"hastags\": {\n",
    "            \"$elemMatch\": {\n",
    "                \"text\": {\n",
    "                    \"$eq\": \"MMA\"\n",
    "                }\n",
    "            }\n",
    "        } \n",
    "    } \n",
    "}\n",
    "for tweet in db_tweets.find(hashtag_query):\n",
    "    print(tweet)"
   ]
  },
  {
   "cell_type": "code",
   "execution_count": null,
   "metadata": {},
   "outputs": [],
   "source": []
  }
 ],
 "metadata": {
  "kernelspec": {
   "display_name": "Python 3",
   "language": "python",
   "name": "python3"
  },
  "language_info": {
   "codemirror_mode": {
    "name": "ipython",
    "version": 3
   },
   "file_extension": ".py",
   "mimetype": "text/x-python",
   "name": "python",
   "nbconvert_exporter": "python",
   "pygments_lexer": "ipython3",
   "version": "3.6.5"
  }
 },
 "nbformat": 4,
 "nbformat_minor": 2
}
