{
 "cells": [
  {
   "cell_type": "markdown",
   "metadata": {},
   "source": [
    "# Load locations to mLab"
   ]
  },
  {
   "cell_type": "code",
   "execution_count": 1,
   "metadata": {},
   "outputs": [],
   "source": [
    "import pymongo"
   ]
  },
  {
   "cell_type": "code",
   "execution_count": 2,
   "metadata": {},
   "outputs": [],
   "source": [
    "def db_connection(collection_name): \n",
    "    # connect to mLab DB\n",
    "    try:\n",
    "        with open(\"../credentials/mlab_credentials.txt\", 'r', encoding='utf-8') as f:\n",
    "            [name,password,url,dbname]=f.read().splitlines()\n",
    "            db_conn = pymongo.MongoClient(\"mongodb://{}:{}@{}/{}\".format(name,password,url,dbname))\n",
    "            print (\"DB connected successfully!!!\")\n",
    "    except pymongo.errors.ConnectionFailure as e:\n",
    "        print (\"Could not connect to DB: %s\" % e) \n",
    "        \n",
    "    db = db_conn[dbname]\n",
    "    collection = db[collection_name]\n",
    "    \n",
    "    return collection"
   ]
  },
  {
   "cell_type": "code",
   "execution_count": 3,
   "metadata": {},
   "outputs": [
    {
     "name": "stdout",
     "output_type": "stream",
     "text": [
      "DB connected successfully!!!\n"
     ]
    }
   ],
   "source": [
    "db_collection = db_connection(\"twitter_happiness_locations\")"
   ]
  },
  {
   "cell_type": "code",
   "execution_count": 24,
   "metadata": {},
   "outputs": [
    {
     "name": "stdout",
     "output_type": "stream",
     "text": [
      "3  existing documents:\n",
      "{'_id': ObjectId('5be495a4db5ea8ca26dc7d27'), 'name': 'Barcelona', 'box': [2.03, 41.2845, 2.3184, 41.4958], 'lat_min': 41.2845, 'lat_max': 41.4958, 'lon_min': 2.03, 'lon_max': 2.3184}\n",
      "{'_id': ObjectId('5be495a4db5ea8ca26dc7d2a'), 'name': 'Madrid', 'box': [-3.887581, 40.328514, -3.516543, 40.518785], 'lat_min': 40.328514, 'lat_max': 40.518785, 'lon_min': -3.887581, 'lon_max': -3.516543}\n",
      "{'_id': ObjectId('5be49610db5ea8ca26dc825b'), 'name': 'New York', 'box': [-74.5236, 40.4938, -73.4606, 40.9642], 'lat_min': 40.4938, 'lat_max': 40.9642, 'lon_min': -74.5236, 'lon_max': -73.4606}\n"
     ]
    }
   ],
   "source": [
    "print(db_collection.count_documents({}), \" existing documents:\")\n",
    "for location in db_collection.find():\n",
    "    print(location)"
   ]
  },
  {
   "cell_type": "code",
   "execution_count": 14,
   "metadata": {},
   "outputs": [
    {
     "name": "stdout",
     "output_type": "stream",
     "text": [
      "2  documents deleted\n"
     ]
    }
   ],
   "source": [
    "result = db_collection.delete_many({})\n",
    "print(result.deleted_count, \" documents deleted\")"
   ]
  },
  {
   "cell_type": "code",
   "execution_count": 16,
   "metadata": {},
   "outputs": [],
   "source": [
    "locations = [\n",
    "    {\n",
    "        \"name\": \"Barcelona\",\n",
    "        \"box\": [2.03,41.2845,2.3184,41.4958]    \n",
    "    },\n",
    "    {\n",
    "        \"name\": \"Madrid\",\n",
    "        \"box\": [-3.887581,40.328514,-3.516543,40.518785]    \n",
    "    },\n",
    "    {\n",
    "        \"name\": \"New York\",\n",
    "        \"box\": [-74.5236,40.4938,-73.4606,40.9642]    \n",
    "    },\n",
    "]"
   ]
  },
  {
   "cell_type": "code",
   "execution_count": 20,
   "metadata": {},
   "outputs": [
    {
     "name": "stdout",
     "output_type": "stream",
     "text": [
      "3\n"
     ]
    }
   ],
   "source": [
    "for location in locations:\n",
    "    location[\"lat_min\"] = location[\"box\"][1]\n",
    "    location[\"lat_max\"] = location[\"box\"][3]\n",
    "    location[\"lon_min\"] = location[\"box\"][0]\n",
    "    location[\"lon_max\"] = location[\"box\"][2]\n",
    "    db_collection.replace_one({\"name\":location[\"name\"]}, location, upsert = True)\n"
   ]
  },
  {
   "cell_type": "code",
   "execution_count": null,
   "metadata": {},
   "outputs": [],
   "source": [
    "for location in db_collection.find()[:10]:\n",
    "    print(location)"
   ]
  },
  {
   "cell_type": "code",
   "execution_count": null,
   "metadata": {},
   "outputs": [],
   "source": []
  }
 ],
 "metadata": {
  "kernelspec": {
   "display_name": "Python 3",
   "language": "python",
   "name": "python3"
  },
  "language_info": {
   "codemirror_mode": {
    "name": "ipython",
    "version": 3
   },
   "file_extension": ".py",
   "mimetype": "text/x-python",
   "name": "python",
   "nbconvert_exporter": "python",
   "pygments_lexer": "ipython3",
   "version": "3.6.5"
  }
 },
 "nbformat": 4,
 "nbformat_minor": 2
}
